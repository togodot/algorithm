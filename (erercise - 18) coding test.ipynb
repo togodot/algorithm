{
 "cells": [
  {
   "cell_type": "code",
   "execution_count": 5,
   "id": "6abfc806",
   "metadata": {},
   "outputs": [
    {
     "name": "stdout",
     "output_type": "stream",
     "text": [
      "5\n",
      "* * * * * \n",
      " * * * * *\n",
      "* * * * * \n",
      " * * * * *\n",
      "* * * * * \n"
     ]
    }
   ],
   "source": [
    "# 10995번: 별 찍기 - 20\n",
    "\n",
    "N = int(input())\n",
    "if N == 1:\n",
    "    print('*')\n",
    "else:\n",
    "    for n in range(N):\n",
    "        if n % 2 == 0:\n",
    "            a = print('* ' * N)\n",
    "        else:\n",
    "            b = print(' *' * N)"
   ]
  },
  {
   "cell_type": "code",
   "execution_count": 6,
   "id": "88a7cd6e",
   "metadata": {},
   "outputs": [
    {
     "name": "stdout",
     "output_type": "stream",
     "text": [
      "4\n",
      "* * * * \n",
      " * * * *\n",
      "* * * * \n",
      " * * * *\n"
     ]
    }
   ],
   "source": [
    "N = int(input())\n",
    "for i in range(N):\n",
    "    print(\"* \"*N if i%2 == 0 else \" *\"*N)"
   ]
  }
 ],
 "metadata": {
  "kernelspec": {
   "display_name": "Python 3",
   "language": "python",
   "name": "python3"
  },
  "language_info": {
   "codemirror_mode": {
    "name": "ipython",
    "version": 3
   },
   "file_extension": ".py",
   "mimetype": "text/x-python",
   "name": "python",
   "nbconvert_exporter": "python",
   "pygments_lexer": "ipython3",
   "version": "3.8.8"
  }
 },
 "nbformat": 4,
 "nbformat_minor": 5
}
