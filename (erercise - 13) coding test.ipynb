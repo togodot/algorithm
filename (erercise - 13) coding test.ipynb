{
 "cells": [
  {
   "cell_type": "code",
   "execution_count": 5,
   "id": "db4661e8",
   "metadata": {
    "scrolled": true
   },
   "outputs": [
    {
     "name": "stdout",
     "output_type": "stream",
     "text": [
      "8 1 7 2 6 3 5 4\n",
      "mixed\n"
     ]
    }
   ],
   "source": [
    "# 2920번: 음계\n",
    "\n",
    "scale = list(map(int, input().split()))\n",
    "ascending = [1, 2, 3, 4, 5, 6, 7, 8]\n",
    "descending = [8, 7, 6, 5, 4, 3, 2, 1]\n",
    "\n",
    "if scale == ascending:\n",
    "    print('ascending')\n",
    "elif scale == descending:\n",
    "    print('descending')\n",
    "else:\n",
    "    print('mixed')"
   ]
  },
  {
   "cell_type": "code",
   "execution_count": 6,
   "id": "291282b5",
   "metadata": {},
   "outputs": [
    {
     "name": "stdout",
     "output_type": "stream",
     "text": [
      "2\n",
      "1024\n",
      "even\n",
      "5931\n",
      "odd\n"
     ]
    }
   ],
   "source": [
    "# 5988번: 홀수일까 짝수일까\n",
    "\n",
    "N = int(input())\n",
    "for _ in range(N):\n",
    "    k = int(input())\n",
    "    if k % 2 == 0:\n",
    "        print('even')\n",
    "    else:\n",
    "        print('odd')"
   ]
  },
  {
   "cell_type": "code",
   "execution_count": 7,
   "id": "3a5e1502",
   "metadata": {
    "scrolled": true
   },
   "outputs": [
    {
     "name": "stdout",
     "output_type": "stream",
     "text": [
      "5\n",
      "1\n",
      "=\n",
      "3\n",
      "===\n",
      "4\n",
      "====\n",
      "6\n",
      "======\n",
      "2\n",
      "==\n"
     ]
    }
   ],
   "source": [
    "# 13752번: 히스토그램\n",
    "\n",
    "n = int(input())\n",
    "for i in range(n):\n",
    "    k = int(input())\n",
    "    print('='*k)"
   ]
  },
  {
   "cell_type": "code",
   "execution_count": 8,
   "id": "4326123a",
   "metadata": {},
   "outputs": [
    {
     "name": "stdout",
     "output_type": "stream",
     "text": [
      "5\n",
      "*****\n",
      "****\n",
      "***\n",
      "**\n",
      "*\n"
     ]
    }
   ],
   "source": [
    "# 2440번: 별 찍기 - 3\n",
    "\n",
    "N = int(input())\n",
    "for i in range(N):\n",
    "    print('*'*(N-i))"
   ]
  },
  {
   "cell_type": "code",
   "execution_count": 9,
   "id": "41e7903a",
   "metadata": {},
   "outputs": [
    {
     "name": "stdout",
     "output_type": "stream",
     "text": [
      "5\n",
      "*****\n",
      " ****\n",
      "  ***\n",
      "   **\n",
      "    *\n"
     ]
    }
   ],
   "source": [
    "# 2441번: 별 찍기 - 4\n",
    "\n",
    "N = int(input())\n",
    "for i in range(N):\n",
    "    print(' '*i+'*'*(N-i))"
   ]
  },
  {
   "cell_type": "code",
   "execution_count": 14,
   "id": "9cb96bc6",
   "metadata": {},
   "outputs": [
    {
     "name": "stdout",
     "output_type": "stream",
     "text": [
      "40 40 100\n",
      "Isosceles\n"
     ]
    }
   ],
   "source": [
    "# 10101번: 삼각형 외우기\n",
    "\n",
    "a = int(input())\n",
    "b = int(input())\n",
    "c = int(input())\n",
    "\n",
    "if a+b+c == 180:\n",
    "    if a == b and b == c and c == a:\n",
    "        print('Equilateral')\n",
    "    elif (a == b and a != c) or (b == c and b != a) or (c == a and b!= c):\n",
    "        print('Isosceles')\n",
    "    else:\n",
    "        print('Scalene')\n",
    "else:\n",
    "    print('Error')"
   ]
  },
  {
   "cell_type": "code",
   "execution_count": 32,
   "id": "d7f817f7",
   "metadata": {},
   "outputs": [
    {
     "name": "stdout",
     "output_type": "stream",
     "text": [
      "5 8\n",
      "3 8\n"
     ]
    }
   ],
   "source": [
    "# 16430번: 제리와 톰\n",
    "\n",
    "A, B = map(int, input().split())\n",
    "print(B-A, B)"
   ]
  },
  {
   "cell_type": "code",
   "execution_count": 43,
   "id": "7baadd97",
   "metadata": {
    "scrolled": true
   },
   "outputs": [
    {
     "name": "stdout",
     "output_type": "stream",
     "text": [
      "9\n",
      "30\n",
      "6\n",
      "12\n",
      "10\n",
      "20\n",
      "21\n",
      "11\n",
      "7\n",
      "5\n",
      "28\n",
      "4\n",
      "18\n",
      "29\n",
      "17\n",
      "19\n",
      "27\n",
      "13\n",
      "16\n",
      "26\n",
      "14\n",
      "23\n",
      "22\n",
      "15\n",
      "3\n",
      "1\n",
      "24\n",
      "25\n",
      "2\n",
      "8\n"
     ]
    }
   ],
   "source": [
    "# 5597번: 과제 안 내신 분..?     -- 런타임에러\n",
    "\n",
    "stu = []\n",
    "for _ in range(28):\n",
    "    n = int(input())\n",
    "    stu.append(n)\n",
    "stu.sort()\n",
    "nonstu = []\n",
    "if stu[0] != 1:\n",
    "    nonstu.append(1)\n",
    "for i in range(27):\n",
    "    if stu[i+1] - stu[i] != 1:\n",
    "        nonstu.append(stu[i]+1)\n",
    "    if len(nonstu) == 2:\n",
    "        break\n",
    "print(nonstu[0])\n",
    "print(nonstu[1])"
   ]
  },
  {
   "cell_type": "code",
   "execution_count": null,
   "id": "039c1f03",
   "metadata": {},
   "outputs": [],
   "source": [
    "# 5597번: 과제 안 내신 분..?   -- 제출\n",
    "\n",
    "n = [i for i in range(1,31)]\n",
    "for _ in range(28):\n",
    "    n.remove(int(input()))\n",
    "print(*n,sep=\"\\n\")"
   ]
  },
  {
   "cell_type": "code",
   "execution_count": 55,
   "id": "c3d671b5",
   "metadata": {},
   "outputs": [
    {
     "name": "stdout",
     "output_type": "stream",
     "text": [
      "3\n",
      "*\n",
      "**\n",
      "***\n",
      "**\n",
      "*\n"
     ]
    }
   ],
   "source": [
    "# 2523번: 별 찍기 - 13\n",
    "\n",
    "N = int(input())\n",
    "for i in range(1, N):\n",
    "    print('*'*i)\n",
    "for j in range(N):\n",
    "    print('*'*(N-j))"
   ]
  },
  {
   "cell_type": "code",
   "execution_count": 65,
   "id": "8f09f1a1",
   "metadata": {},
   "outputs": [
    {
     "name": "stdout",
     "output_type": "stream",
     "text": [
      "27\n",
      "0\n"
     ]
    }
   ],
   "source": [
    "# 11966번: 2의 제곱인가?\n",
    "\n",
    "N = int(input())\n",
    "remainder = []\n",
    "for i in range(31):\n",
    "    remainder.append(2**i)\n",
    "if N in remainder:\n",
    "    print(1)\n",
    "else:\n",
    "    print(0)"
   ]
  },
  {
   "cell_type": "code",
   "execution_count": 78,
   "id": "95913932",
   "metadata": {},
   "outputs": [
    {
     "name": "stdout",
     "output_type": "stream",
     "text": [
      "3 23 85 34 17 74 25 52 65\n",
      "10 7 39 42 88 52 14 72 63\n",
      "87 42 18 78 53 45 18 84 53\n",
      "34 28 64 85 12 16 75 36 55\n",
      "21 77 45 35 28 75 90 76 1\n",
      "25 87 65 15 28 11 37 28 74\n",
      "65 27 75 41 7 89 78 64 39\n",
      "47 47 70 45 23 65 3 41 44\n",
      "87 13 82 38 31 12 29 29 80\n",
      "90\n",
      "5 7\n"
     ]
    }
   ],
   "source": [
    "# 2566번: 최댓값\n",
    "\n",
    "loca = {}\n",
    "maxnum = []\n",
    "for i in range(1, 10):\n",
    "    nums = list(map(int, input().split()))\n",
    "    maxnum.append(max(nums))\n",
    "    loca[i] = nums.index(max(nums))+1\n",
    "print(max(maxnum))\n",
    "print(maxnum.index(max(maxnum))+1, loca[maxnum.index(max(maxnum))+1])"
   ]
  },
  {
   "cell_type": "code",
   "execution_count": 84,
   "id": "af447915",
   "metadata": {},
   "outputs": [
    {
     "name": "stdout",
     "output_type": "stream",
     "text": [
      "1 2 3 2 1\n",
      "Bad\n"
     ]
    }
   ],
   "source": [
    "# 14910번: 오르막\n",
    "\n",
    "N = list(map(int, input().split()))\n",
    "ans = []\n",
    "if len(N) == 1:\n",
    "    ans.append(0)\n",
    "else:\n",
    "    for i in range(len(N)-1):\n",
    "        if N[i] <= N[i+1]:\n",
    "            ans.append(0)\n",
    "        else:\n",
    "            ans.append(1)\n",
    "if sum(ans) == 0:\n",
    "    print('Good')\n",
    "else:\n",
    "    print('Bad')"
   ]
  },
  {
   "cell_type": "code",
   "execution_count": 97,
   "id": "b75b0b6a",
   "metadata": {},
   "outputs": [
    {
     "name": "stdout",
     "output_type": "stream",
     "text": [
      "1 2\n",
      "3 4\n",
      "5\n"
     ]
    }
   ],
   "source": [
    "# 11943번: 파일 옮기기\n",
    "\n",
    "A, B = map(int, input().split())\n",
    "C, D = map(int, input().split())\n",
    "moving = []\n",
    "moving.append(A+D)\n",
    "moving.append(B+C)\n",
    "print(min(moving))"
   ]
  },
  {
   "cell_type": "code",
   "execution_count": 102,
   "id": "bbe8cb77",
   "metadata": {},
   "outputs": [
    {
     "name": "stdout",
     "output_type": "stream",
     "text": [
      "4 3\n",
      "2 3 5 9\n",
      "1 4 7\n",
      "1 2 3 4 5 7 9\n"
     ]
    }
   ],
   "source": [
    "# 11728번: 배열 합치기\n",
    "\n",
    "N, M = map(int, input().split())\n",
    "nums = []\n",
    "for _ in range(2):\n",
    "    arr = list(map(int, input().split()))\n",
    "    nums += arr\n",
    "nums.sort()\n",
    "print(' '.join(str(s) for s in nums))"
   ]
  }
 ],
 "metadata": {
  "kernelspec": {
   "display_name": "Python 3",
   "language": "python",
   "name": "python3"
  },
  "language_info": {
   "codemirror_mode": {
    "name": "ipython",
    "version": 3
   },
   "file_extension": ".py",
   "mimetype": "text/x-python",
   "name": "python",
   "nbconvert_exporter": "python",
   "pygments_lexer": "ipython3",
   "version": "3.8.8"
  }
 },
 "nbformat": 4,
 "nbformat_minor": 5
}
