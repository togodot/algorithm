{
 "cells": [
  {
   "cell_type": "code",
   "execution_count": 63,
   "id": "3b31e55c",
   "metadata": {
    "scrolled": false
   },
   "outputs": [
    {
     "name": "stdout",
     "output_type": "stream",
     "text": [
      "2 3\n",
      "0 0 1 0 2 0\n",
      "1\n"
     ]
    }
   ],
   "source": [
    "# 13604번: Jogo de Estratégia\n",
    "\n",
    "J, R = map(int, input().split())\n",
    "score_list = list(map(int, input().split()))\n",
    "score_sum_list = []\n",
    "\n",
    "for i in range(J):     #플레이어 수 만큼 반복\n",
    "    for j in range(R):       # 라운드 수 만큼 반복\n",
    "        if j == 0:\n",
    "            score = score_list[i]\n",
    "        else:\n",
    "            score += score_list[i+(j*J)]\n",
    "    score_sum_list.append(score)\n",
    "\n",
    "max_score = max(score_sum_list)\n",
    "\n",
    "for i, e in reversed(list(enumerate(score_sum_list))):\n",
    "    if e == max_score:\n",
    "        answer = i + 1\n",
    "        break\n",
    "\n",
    "print(answer)"
   ]
  },
  {
   "cell_type": "code",
   "execution_count": 73,
   "id": "a85a062a",
   "metadata": {},
   "outputs": [
    {
     "name": "stdout",
     "output_type": "stream",
     "text": [
      "6 6\n",
      "6 1 3 2 5 4\n",
      "*\n"
     ]
    }
   ],
   "source": [
    "# 13627번: Dangerous Dive\n",
    "\n",
    "N, R = map(int, input().split())\n",
    "alive_identifier = list(map(int, input().split()))\n",
    "existing_identifier = []\n",
    "answer_list = []\n",
    "\n",
    "if N == R:\n",
    "    print('*')\n",
    "else:\n",
    "    for i in range(1, N+1):\n",
    "        existing_identifier.append(i)\n",
    "    \n",
    "    for j in existing_identifier:\n",
    "        if j not in alive_identifier:\n",
    "            answer_list.append(j)\n",
    "\n",
    "    for k in range(N-R):\n",
    "        print(answer_list[k], end=' ')"
   ]
  },
  {
   "cell_type": "code",
   "execution_count": null,
   "id": "12c3a3ae",
   "metadata": {},
   "outputs": [],
   "source": []
  },
  {
   "cell_type": "code",
   "execution_count": null,
   "id": "7330fc2d",
   "metadata": {},
   "outputs": [],
   "source": []
  },
  {
   "cell_type": "code",
   "execution_count": null,
   "id": "e8745f3d",
   "metadata": {},
   "outputs": [],
   "source": []
  },
  {
   "cell_type": "code",
   "execution_count": null,
   "id": "a2e01eed",
   "metadata": {},
   "outputs": [],
   "source": []
  }
 ],
 "metadata": {
  "kernelspec": {
   "display_name": "Python 3",
   "language": "python",
   "name": "python3"
  },
  "language_info": {
   "codemirror_mode": {
    "name": "ipython",
    "version": 3
   },
   "file_extension": ".py",
   "mimetype": "text/x-python",
   "name": "python",
   "nbconvert_exporter": "python",
   "pygments_lexer": "ipython3",
   "version": "3.8.8"
  }
 },
 "nbformat": 4,
 "nbformat_minor": 5
}
