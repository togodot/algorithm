{
 "cells": [
  {
   "cell_type": "code",
   "execution_count": null,
   "id": "bbf29f08",
   "metadata": {},
   "outputs": [],
   "source": [
    "# 1193번: 분수찾기\n",
    "\n",
    "X = int(input())\n",
    "lo = 0\n",
    "# i = 1\n",
    "breaktime = False\n",
    "for i in range(X):\n",
    "    for j in range(i):\n",
    "        if i%2 == 0:\n",
    "            ans = str(j+1)+'/'+str(i-j)\n",
    "            lo += 1\n",
    "        else:\n",
    "            ans = str(i-j)+'/'+str(j+1)\n",
    "            lo += 1\n",
    "        if lo == X:\n",
    "            print(ans)\n",
    "            breaktime = True\n",
    "    if breaktime == True:\n",
    "        break\n",
    "#     i += 1"
   ]
  },
  {
   "cell_type": "code",
   "execution_count": 1,
   "id": "664fc771",
   "metadata": {
    "scrolled": true
   },
   "outputs": [
    {
     "name": "stdout",
     "output_type": "stream",
     "text": [
      "\n"
     ]
    }
   ],
   "source": [
    "# 1237번: 정ㅋ벅ㅋ\n",
    "\n",
    "print('문제의 정답')"
   ]
  },
  {
   "cell_type": "code",
   "execution_count": 5,
   "id": "7760364a",
   "metadata": {},
   "outputs": [
    {
     "name": "stdout",
     "output_type": "stream",
     "text": [
      "5 3\n",
      "5 4 3 2 1\n",
      "1 3\n",
      "12\n",
      "2 4\n",
      "9\n",
      "5 5\n",
      "1\n"
     ]
    }
   ],
   "source": [
    "# 11659번: 구간 합 구하기 4        -- 시간초과 .. 왜?\n",
    "\n",
    "N, M = map(int, input().split())\n",
    "nums = list(map(int, input().split()))\n",
    "for _ in range(M):\n",
    "    i, j = map(int, input().split())\n",
    "    print(sum(nums[i-1:j]))"
   ]
  },
  {
   "cell_type": "code",
   "execution_count": null,
   "id": "3e372588",
   "metadata": {},
   "outputs": [],
   "source": []
  },
  {
   "cell_type": "code",
   "execution_count": null,
   "id": "21ddc4fd",
   "metadata": {},
   "outputs": [],
   "source": []
  }
 ],
 "metadata": {
  "kernelspec": {
   "display_name": "Python 3",
   "language": "python",
   "name": "python3"
  },
  "language_info": {
   "codemirror_mode": {
    "name": "ipython",
    "version": 3
   },
   "file_extension": ".py",
   "mimetype": "text/x-python",
   "name": "python",
   "nbconvert_exporter": "python",
   "pygments_lexer": "ipython3",
   "version": "3.8.8"
  }
 },
 "nbformat": 4,
 "nbformat_minor": 5
}
