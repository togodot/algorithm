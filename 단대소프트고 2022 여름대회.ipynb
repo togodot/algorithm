{
 "cells": [
  {
   "cell_type": "code",
   "execution_count": 13,
   "metadata": {
    "pycharm": {
     "name": "#%%\n"
    }
   },
   "outputs": [
    {
     "name": "stdout",
     "output_type": "stream",
     "text": [
      "5\n",
      "2 4\n",
      "5 1\n",
      "3 2\n",
      "1 10\n",
      "0 0\n",
      "62\n"
     ]
    }
   ],
   "source": [
    "# B - 일차함수들\n",
    "\n",
    "N = int(input())\n",
    "s = []\n",
    "\n",
    "for i in range(N):\n",
    "    a, b = map(int, input().split())\n",
    "    s.append([a,b])\n",
    "s.sort()\n",
    "result = 0\n",
    "for j in range(N):\n",
    "    result += (s[j][0]*(j+1) + s[j][1])\n",
    "print(result)"
   ]
  },
  {
   "cell_type": "code",
   "execution_count": 28,
   "metadata": {},
   "outputs": [
    {
     "name": "stdout",
     "output_type": "stream",
     "text": [
      "11\n",
      "DABKCDSEFHH\n",
      "2\n"
     ]
    }
   ],
   "source": [
    "# C - DKSH를 찾아라\n",
    "\n",
    "N = int(input())\n",
    "S = list(map(str, input()))\n",
    "ans = 0\n",
    "\n",
    "for i in range(N):\n",
    "    if S[i] == 'D':\n",
    "        for j in range(i, N):\n",
    "            if S[j] == 'K':\n",
    "                for k in range(j, N):\n",
    "                    if S[k] == 'S':\n",
    "                        for l in range(k, N):\n",
    "                            if S[l] == 'H':\n",
    "                                ans += 1\n",
    "print(ans)"
   ]
  }
 ],
 "metadata": {
  "kernelspec": {
   "display_name": "Python 3",
   "language": "python",
   "name": "python3"
  },
  "language_info": {
   "codemirror_mode": {
    "name": "ipython",
    "version": 3
   },
   "file_extension": ".py",
   "mimetype": "text/x-python",
   "name": "python",
   "nbconvert_exporter": "python",
   "pygments_lexer": "ipython3",
   "version": "3.8.8"
  }
 },
 "nbformat": 4,
 "nbformat_minor": 1
}
