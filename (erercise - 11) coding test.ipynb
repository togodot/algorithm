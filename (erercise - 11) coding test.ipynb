{
 "cells": [
  {
   "cell_type": "code",
   "execution_count": 7,
   "id": "6625899b",
   "metadata": {},
   "outputs": [
    {
     "name": "stdout",
     "output_type": "stream",
     "text": [
      "OneTwoThreeFourFiveSixSevenEightNineTen\n",
      "OneTwoThre\n",
      "eFourFiveS\n",
      "ixSevenEig\n",
      "htNineTen"
     ]
    }
   ],
   "source": [
    "# 11721번: 열 개씩 끊어 출력하기\n",
    "\n",
    "S = list(input())\n",
    "for i in range(len(S)):\n",
    "    if (i+1) % 10 == 0:\n",
    "        print(S[i], end='\\n')\n",
    "    else:\n",
    "        print(S[i], end='')"
   ]
  },
  {
   "cell_type": "code",
   "execution_count": 23,
   "id": "c44394a5",
   "metadata": {},
   "outputs": [
    {
     "name": "stdout",
     "output_type": "stream",
     "text": [
      "5\n",
      "powdered Toast Man\n",
      "Powdered Toast Man\n",
      "skeletor\n",
      "Skeletor\n",
      "Electra Woman and Dyna Girl\n",
      "Electra Woman and Dyna Girl\n",
      "she-Ra Princess of Power\n",
      "She-Ra Princess of Power\n",
      "darth Vader\n",
      "Darth Vader\n"
     ]
    }
   ],
   "source": [
    "# 4458번: 첫 글자를 대문자로\n",
    "\n",
    "N = int(input())\n",
    "for _ in range(N):\n",
    "    S = input()\n",
    "    print(S[0].upper()+S[1:])"
   ]
  },
  {
   "cell_type": "code",
   "execution_count": 34,
   "id": "e7cc4fef",
   "metadata": {},
   "outputs": [
    {
     "name": "stdout",
     "output_type": "stream",
     "text": [
      "456 789\n",
      "1461\n"
     ]
    }
   ],
   "source": [
    "# 1357번: 뒤집힌 덧셈\n",
    "\n",
    "X, Y = map(str, input().split())\n",
    "x = int(X[::-1])\n",
    "y = int(Y[::-1])\n",
    "print(int(str(x+y)[::-1]))"
   ]
  },
  {
   "cell_type": "code",
   "execution_count": 40,
   "id": "8ddd5450",
   "metadata": {},
   "outputs": [
    {
     "name": "stdout",
     "output_type": "stream",
     "text": [
      "17\n",
      "25\n",
      "23\n",
      "25\n",
      "79\n",
      "29\n",
      "1\n",
      "61\n",
      "59\n",
      "100\n",
      "44\n",
      "74\n",
      "94\n",
      "57\n",
      "13\n",
      "54\n",
      "82\n",
      "0\n",
      "42\n",
      "45\n",
      "240 250\n"
     ]
    }
   ],
   "source": [
    "# 5576번: 콘테스트\n",
    "\n",
    "W = []\n",
    "K = []\n",
    "for i in range(20):\n",
    "    score = int(input())\n",
    "    if i <= 9:\n",
    "        W.append(score)\n",
    "    else:\n",
    "        K.append(score)\n",
    "W.sort(reverse=True)\n",
    "K.sort(reverse=True)\n",
    "Wsum = W[0] + W[1] + W[2]\n",
    "Ksum = K[0] + K[1] + K[2]\n",
    "print(Wsum, Ksum)"
   ]
  },
  {
   "cell_type": "code",
   "execution_count": 46,
   "id": "0656959f",
   "metadata": {},
   "outputs": [
    {
     "name": "stdout",
     "output_type": "stream",
     "text": [
      "2\n",
      "1 2 3 4 5 6 7\n",
      "12 2\n",
      "13 78 39 42 54 93 86\n",
      "260 42\n"
     ]
    }
   ],
   "source": [
    "# 3058번: 짝수를 찾아라\n",
    "\n",
    "T = int(input())\n",
    "for i in range(T):\n",
    "    nums = list(map(int, input().split()))\n",
    "    evennum = []\n",
    "    for j in range(7):\n",
    "        if nums[j]%2 == 0:\n",
    "            evennum.append(nums[j])\n",
    "    print(sum(evennum), min(evennum))"
   ]
  },
  {
   "cell_type": "code",
   "execution_count": 49,
   "id": "d9dd09b2",
   "metadata": {},
   "outputs": [
    {
     "name": "stdout",
     "output_type": "stream",
     "text": [
      "3 1 2\n",
      "1 2 3\n"
     ]
    }
   ],
   "source": [
    "# 2752번: 세수정렬\n",
    "\n",
    "nums = list(map(int, input().split()))\n",
    "nums.sort()\n",
    "ans = ' '.join(str(s) for s in nums)\n",
    "print(ans)"
   ]
  },
  {
   "cell_type": "code",
   "execution_count": 51,
   "id": "63540ae4",
   "metadata": {},
   "outputs": [
    {
     "name": "stdout",
     "output_type": "stream",
     "text": [
      "3 1 2\n",
      "1 2 3\n"
     ]
    }
   ],
   "source": [
    "# 2752번: 세수정렬\n",
    "\n",
    "nums = list(map(int, input().split()))\n",
    "nums.sort()\n",
    "print(' '.join(str(s) for s in nums))"
   ]
  }
 ],
 "metadata": {
  "kernelspec": {
   "display_name": "Python 3",
   "language": "python",
   "name": "python3"
  },
  "language_info": {
   "codemirror_mode": {
    "name": "ipython",
    "version": 3
   },
   "file_extension": ".py",
   "mimetype": "text/x-python",
   "name": "python",
   "nbconvert_exporter": "python",
   "pygments_lexer": "ipython3",
   "version": "3.8.8"
  }
 },
 "nbformat": 4,
 "nbformat_minor": 5
}
