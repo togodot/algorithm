{
 "cells": [
  {
   "cell_type": "code",
   "execution_count": null,
   "id": "d41fbc07",
   "metadata": {},
   "outputs": [],
   "source": [
    "a, b = map(int, input().split())"
   ]
  },
  {
   "cell_type": "code",
   "execution_count": null,
   "id": "0ba12075",
   "metadata": {},
   "outputs": [],
   "source": [
    "# 2558번: A+B - 2\n",
    "\n",
    "a = input()\n",
    "b = input()\n",
    "print(int(a) + int(b))"
   ]
  },
  {
   "cell_type": "code",
   "execution_count": 6,
   "id": "84a19577",
   "metadata": {},
   "outputs": [
    {
     "name": "stdout",
     "output_type": "stream",
     "text": [
      "4 3\n",
      "2\n"
     ]
    }
   ],
   "source": [
    "# 3046번: R2\n",
    "\n",
    "a, b = input().split()\n",
    "answer = 2*int(b) - int(a)\n",
    "print(answer)"
   ]
  },
  {
   "cell_type": "code",
   "execution_count": 8,
   "id": "ffaabb0f",
   "metadata": {},
   "outputs": [
    {
     "name": "stdout",
     "output_type": "stream",
     "text": [
      "1 1\n",
      "0\n"
     ]
    }
   ],
   "source": [
    "# 2163번: 초콜릿 자르기\n",
    "\n",
    "N, M = input().split()\n",
    "answer = int(N) * int(M) - 1\n",
    "print(answer)"
   ]
  },
  {
   "cell_type": "code",
   "execution_count": 18,
   "id": "3bf749c3",
   "metadata": {},
   "outputs": [
    {
     "name": "stdout",
     "output_type": "stream",
     "text": [
      "2022-08-07\n"
     ]
    }
   ],
   "source": [
    "# 10699번: 오늘 날짜\n",
    "\n",
    "from datetime import datetime\n",
    "\n",
    "answer = datetime.now().date()\n",
    "print(answer)"
   ]
  },
  {
   "cell_type": "code",
   "execution_count": 19,
   "id": "bbe3a789",
   "metadata": {},
   "outputs": [
    {
     "name": "stdout",
     "output_type": "stream",
     "text": [
      "59\n",
      "togodot\n"
     ]
    }
   ],
   "source": [
    "# 7287번: 등록\n",
    "\n",
    "print(\"59\\ntogodot\")"
   ]
  },
  {
   "cell_type": "code",
   "execution_count": 43,
   "id": "e5585f76",
   "metadata": {},
   "outputs": [
    {
     "name": "stdout",
     "output_type": "stream",
     "text": [
      "23 48 59\n",
      "2515\n",
      "0 30 54\n"
     ]
    }
   ],
   "source": [
    "# 2530번: 인공지능 시계   -- 내 풀이 (왜 틀렸지?)\n",
    "\n",
    "A, B, C = map(int, input().split())   # 현재시각\n",
    "D = int(input())      # 소요시간\n",
    "\n",
    "m = D // 60     # 소요예정 분\n",
    "s = D % 60      # 소요예정 초\n",
    "\n",
    "C += s\n",
    "if C > 59:\n",
    "    m += C//60\n",
    "    C = C%60\n",
    "\n",
    "B += m\n",
    "if B > 59:\n",
    "    A += B//60\n",
    "    B = B%60\n",
    "    \n",
    "if A > 23:\n",
    "    A -= 24\n",
    "    \n",
    "print(A, B, C)"
   ]
  },
  {
   "cell_type": "code",
   "execution_count": 50,
   "id": "9119cdd5",
   "metadata": {},
   "outputs": [
    {
     "name": "stdout",
     "output_type": "stream",
     "text": [
      "17 40 45\n",
      "6015\n",
      "19 21 0\n"
     ]
    }
   ],
   "source": [
    "# 2530번: 인공지능 시계       -- 풀이 참고\n",
    "\n",
    "A, B, C = map(int, input().split())\n",
    "D = int(input())\n",
    "\n",
    "C1 = (C + D) % 60\n",
    "B1 = (C + D) // 60\n",
    "\n",
    "B2 = (B + B1) % 60\n",
    "A1 = (B + B1) // 60\n",
    "\n",
    "A2 = (A + A1) % 24\n",
    "    \n",
    "print(A2, B2, C1)"
   ]
  },
  {
   "cell_type": "code",
   "execution_count": 65,
   "id": "e1590ce7",
   "metadata": {},
   "outputs": [
    {
     "name": "stdout",
     "output_type": "stream",
     "text": [
      "10 10\n",
      "91\n"
     ]
    }
   ],
   "source": [
    "# 2914번: 저작권    -- 적어도 몇 곡이 수록되었느냐 !\n",
    "\n",
    "import math\n",
    "\n",
    "A, I = map(int, input().split())\n",
    "answer = (A * (I - 1)) + 1\n",
    "\n",
    "print(answer)"
   ]
  },
  {
   "cell_type": "code",
   "execution_count": 133,
   "id": "10133138",
   "metadata": {},
   "outputs": [
    {
     "name": "stdout",
     "output_type": "stream",
     "text": [
      "1\n",
      "3 #\n",
      "#\n"
     ]
    },
    {
     "ename": "TypeError",
     "evalue": "unsupported operand type(s) for +=: 'int' and 'str'",
     "output_type": "error",
     "traceback": [
      "\u001b[0;31m---------------------------------------------------------------------------\u001b[0m",
      "\u001b[0;31mTypeError\u001b[0m                                 Traceback (most recent call last)",
      "\u001b[0;32m<ipython-input-133-c2420d893b0c>\u001b[0m in \u001b[0;36m<module>\u001b[0;34m\u001b[0m\n\u001b[1;32m     28\u001b[0m             \u001b[0mtest\u001b[0m \u001b[0;34m=\u001b[0m \u001b[0mlst\u001b[0m\u001b[0;34m[\u001b[0m\u001b[0mj\u001b[0m\u001b[0;34m]\u001b[0m\u001b[0;34m[\u001b[0m\u001b[0mk\u001b[0m\u001b[0;34m]\u001b[0m\u001b[0;34m\u001b[0m\u001b[0;34m\u001b[0m\u001b[0m\n\u001b[1;32m     29\u001b[0m             \u001b[0mprint\u001b[0m\u001b[0;34m(\u001b[0m\u001b[0mstr\u001b[0m\u001b[0;34m(\u001b[0m\u001b[0mtest\u001b[0m\u001b[0;34m)\u001b[0m\u001b[0;34m)\u001b[0m\u001b[0;34m\u001b[0m\u001b[0;34m\u001b[0m\u001b[0m\n\u001b[0;32m---> 30\u001b[0;31m             \u001b[0mexp\u001b[0m \u001b[0;34m+=\u001b[0m \u001b[0mcal\u001b[0m\u001b[0;34m(\u001b[0m\u001b[0mlst\u001b[0m\u001b[0;34m[\u001b[0m\u001b[0mj\u001b[0m\u001b[0;34m]\u001b[0m\u001b[0;34m[\u001b[0m\u001b[0mk\u001b[0m\u001b[0;34m]\u001b[0m\u001b[0;34m)\u001b[0m\u001b[0;34m\u001b[0m\u001b[0;34m\u001b[0m\u001b[0m\n\u001b[0m\u001b[1;32m     31\u001b[0m             \u001b[0mprint\u001b[0m\u001b[0;34m(\u001b[0m\u001b[0;34m'몇번째? '\u001b[0m\u001b[0;34m,\u001b[0m \u001b[0mj\u001b[0m\u001b[0;34m)\u001b[0m\u001b[0;34m\u001b[0m\u001b[0;34m\u001b[0m\u001b[0m\n\u001b[1;32m     32\u001b[0m             \u001b[0mprint\u001b[0m\u001b[0;34m(\u001b[0m\u001b[0;34m'exp: '\u001b[0m\u001b[0;34m,\u001b[0m \u001b[0mexp\u001b[0m\u001b[0;34m)\u001b[0m\u001b[0;34m\u001b[0m\u001b[0;34m\u001b[0m\u001b[0m\n",
      "\u001b[0;31mTypeError\u001b[0m: unsupported operand type(s) for +=: 'int' and 'str'"
     ]
    }
   ],
   "source": [
    "# 5355번: 화성 수학       -- 내 풀이\n",
    "\n",
    "T = int(input())\n",
    "\n",
    "def cal(s):\n",
    "    if s == '@':\n",
    "        s = '*3'\n",
    "    elif s == '%':\n",
    "        s = '+5'\n",
    "    elif s == '#':\n",
    "        s = '-7'\n",
    "    \n",
    "    return s\n",
    "\n",
    "str(3) + cal('@')\n",
    "\n",
    "lst = []\n",
    "for i in range(1, T+1):\n",
    "    lst.append(input().split())\n",
    "\n",
    "for j in range(0, T):\n",
    "    for k in range(1, len(lst[j])):\n",
    "        if k == 0:\n",
    "            exp = lst[j][0]\n",
    "\n",
    "        else:\n",
    "            test = lst[j][k]\n",
    "            print(str(test))\n",
    "            exp += cal(lst[j][k])\n",
    "\n",
    "        \n",
    "    answer = eval(exp)\n",
    "    print(answer)"
   ]
  },
  {
   "cell_type": "code",
   "execution_count": 139,
   "id": "db39e054",
   "metadata": {},
   "outputs": [
    {
     "name": "stdout",
     "output_type": "stream",
     "text": [
      "3\n",
      "3 @ %\n",
      "14.00\n",
      "10.4 # % @\n",
      "25.20\n",
      "8 #\n",
      "1.00\n"
     ]
    }
   ],
   "source": [
    "# 5355번: 화성 수학     -- 풀이 참고\n",
    "\n",
    "T = int(input())\n",
    "\n",
    "for i in range(T):\n",
    "    mars_math = input().split()\n",
    "    num = float(mars_math[0])\n",
    "    operators = mars_math[1:]\n",
    "    \n",
    "    for operator in operators:\n",
    "        if operator == '@':\n",
    "            num *= 3\n",
    "        elif operator == '%':\n",
    "            num += 5\n",
    "        else:\n",
    "            num -= 7\n",
    "    print(format(num, \".2f\"))"
   ]
  },
  {
   "cell_type": "code",
   "execution_count": 145,
   "id": "2a485aa9",
   "metadata": {},
   "outputs": [
    {
     "name": "stdout",
     "output_type": "stream",
     "text": [
      "1\n",
      "*\n",
      "1000\n",
      "1000\n"
     ]
    }
   ],
   "source": [
    "# 2935번: 소음\n",
    "\n",
    "A = str(input())\n",
    "operator = str(input())\n",
    "B = str(input())\n",
    "\n",
    "answer = eval(A+operator+B)\n",
    "print(answer)"
   ]
  },
  {
   "cell_type": "code",
   "execution_count": 164,
   "id": "a14cf568",
   "metadata": {},
   "outputs": [
    {
     "name": "stdout",
     "output_type": "stream",
     "text": [
      "20 10 10\n",
      "10\n"
     ]
    }
   ],
   "source": [
    "# 10817번: 세 수\n",
    "\n",
    "A, B, C = map(int, input().split())\n",
    "\n",
    "what_max = [A, B, C]\n",
    "what_max.sort()\n",
    "answer = what_max[1]\n",
    "\n",
    "print(answer)"
   ]
  },
  {
   "cell_type": "code",
   "execution_count": 177,
   "id": "ab24bb99",
   "metadata": {},
   "outputs": [
    {
     "name": "stdout",
     "output_type": "stream",
     "text": [
      "50\n",
      "2\n",
      "5\n",
      "5\n"
     ]
    }
   ],
   "source": [
    "# 11653번: 소인수분해\n",
    "\n",
    "N = int(input())\n",
    "measure = 2\n",
    "\n",
    "while measure <= N:\n",
    "    if N % measure == 0:\n",
    "        N = N // measure\n",
    "        print(measure)\n",
    "    else:\n",
    "        measure += 1"
   ]
  },
  {
   "cell_type": "code",
   "execution_count": 210,
   "id": "16cba59a",
   "metadata": {},
   "outputs": [
    {
     "name": "stdout",
     "output_type": "stream",
     "text": [
      "100\n",
      "13\n"
     ]
    }
   ],
   "source": [
    "# 1789번: 수들의 합\n",
    "\n",
    "S = int(input())\n",
    "\n",
    "for i in range(1, S+1):\n",
    "    if S < i:\n",
    "        break\n",
    "    S -= i\n",
    "    result = i\n",
    "    \n",
    "print(result)"
   ]
  },
  {
   "cell_type": "code",
   "execution_count": 212,
   "id": "fb74d068",
   "metadata": {},
   "outputs": [
    {
     "name": "stdout",
     "output_type": "stream",
     "text": [
      "10\n",
      "65\n",
      "100\n",
      "30\n",
      "95\n",
      "68\n"
     ]
    }
   ],
   "source": [
    "# 10039번: 평균 점수\n",
    "\n",
    "scoreSum = 0\n",
    "\n",
    "for i in range(5):\n",
    "    score = int(input())\n",
    "    if score >= 40:\n",
    "        scoreSum += score\n",
    "    else:\n",
    "        scoreSum += 40\n",
    "\n",
    "answer = int(scoreSum / 5)\n",
    "print(answer)"
   ]
  },
  {
   "cell_type": "code",
   "execution_count": 219,
   "id": "6a8d6baa",
   "metadata": {
    "scrolled": true
   },
   "outputs": [
    {
     "name": "stdout",
     "output_type": "stream",
     "text": [
      "3\n",
      "1 45000\n",
      "45000\n",
      "6 10\n",
      "30\n",
      "13 17\n",
      "221\n"
     ]
    }
   ],
   "source": [
    "# 1934번: 최소공배수\n",
    "\n",
    "T = int(input())\n",
    "\n",
    "for i in range(T):\n",
    "    A, B = map(int, input().split())\n",
    "    for i in range(max(A,B), (A*B) + 1):\n",
    "        if i % A == 0 and i % B == 0:\n",
    "            print(i)\n",
    "            break"
   ]
  },
  {
   "cell_type": "code",
   "execution_count": 232,
   "id": "82be9a2f",
   "metadata": {
    "scrolled": true
   },
   "outputs": [
    {
     "name": "stdout",
     "output_type": "stream",
     "text": [
      "0 9\n",
      "No\n",
      "9 0\n",
      "Yes\n",
      "1 19\n",
      "No\n",
      "4 4\n",
      "No\n",
      "0 0\n"
     ]
    }
   ],
   "source": [
    "# 4101번: 크냐?\n",
    "\n",
    "while 1:\n",
    "    A, B = map(int, input().split())\n",
    "    if A == 0 and B == 0:\n",
    "        break\n",
    "    if A > B:\n",
    "        print('Yes')\n",
    "    else:\n",
    "        print('No')"
   ]
  },
  {
   "cell_type": "code",
   "execution_count": 238,
   "id": "765d8a7a",
   "metadata": {},
   "outputs": [
    {
     "name": "stdout",
     "output_type": "stream",
     "text": [
      "20 10 320\n",
      "0\n"
     ]
    }
   ],
   "source": [
    "# 10156번: 과자\n",
    "\n",
    "K, N, M = map(int, input().split())\n",
    "\n",
    "if (K * N) > M:\n",
    "    answer = (K * N) - M\n",
    "    print(answer)\n",
    "else:\n",
    "    print('0')"
   ]
  },
  {
   "cell_type": "code",
   "execution_count": 248,
   "id": "0404d526",
   "metadata": {},
   "outputs": [
    {
     "name": "stdout",
     "output_type": "stream",
     "text": [
      "5 5\n",
      "5 7\n",
      "7 5\n",
      "7 7\n"
     ]
    }
   ],
   "source": [
    "# 3009번: 네 번째 점\n",
    "\n",
    "width_list = []\n",
    "length_list = []\n",
    "\n",
    "for i in range(3):\n",
    "    A, B = map(int, input().split())\n",
    "    width_list.append(A)\n",
    "    length_list.append(B)\n",
    "\n",
    "if width_list[0] == width_list[1]:\n",
    "    width_list.append(width_list[2])\n",
    "else:\n",
    "    if width_list[0] == width_list[2]:\n",
    "        width_list.append(width_list[1])\n",
    "    elif width_list[1] == width_list[2]:\n",
    "        width_list.append(width_list[0])\n",
    "\n",
    "if length_list[0] == length_list[1]:\n",
    "    length_list.append(length_list[2])\n",
    "else:\n",
    "    if length_list[0] == length_list[2]:\n",
    "        length_list.append(length_list[1])\n",
    "    elif length_list[1] == length_list[2]:\n",
    "        length_list.append(length_list[0])\n",
    "\n",
    "print(width_list[3], length_list[3])"
   ]
  },
  {
   "cell_type": "code",
   "execution_count": 255,
   "id": "d39f934d",
   "metadata": {},
   "outputs": [
    {
     "name": "stdout",
     "output_type": "stream",
     "text": [
      "3\n",
      "3 3 6\n",
      "2 2 2\n",
      "6 2 5\n",
      "12000\n"
     ]
    }
   ],
   "source": [
    "# 2476번: 주사위 게임\n",
    "\n",
    "T = int(input())\n",
    "rewardList = []\n",
    "\n",
    "for i in range(T):\n",
    "    \n",
    "    A, B, C = map(int, input().split())\n",
    "\n",
    "    if A == B and A == C:\n",
    "        reward = 10000 + (A*1000)\n",
    "        rewardList.append(reward)\n",
    "    elif A == B and A != C:\n",
    "        reward = 1000 + (A*100)\n",
    "        rewardList.append(reward)\n",
    "    elif A == C and A != B:\n",
    "        reward = 1000 + (A*100)\n",
    "        rewardList.append(reward)\n",
    "    elif B == C and B != A:\n",
    "        reward = 1000 + (B*100)\n",
    "        rewardList.append(reward)\n",
    "    elif A != B and A != C and B != C:\n",
    "        reward = max(A, B, C) * 100\n",
    "        rewardList.append(reward)\n",
    "\n",
    "answer = max(rewardList)\n",
    "print(answer)"
   ]
  },
  {
   "cell_type": "code",
   "execution_count": 254,
   "id": "56dcd870",
   "metadata": {},
   "outputs": [
    {
     "name": "stdout",
     "output_type": "stream",
     "text": [
      "3\n",
      "3 3 6\n",
      "2 2 2\n",
      "6 2 5\n",
      "12000\n"
     ]
    }
   ],
   "source": [
    "# 2476번: 주사위 게임\n",
    "\n",
    "T = int(input())\n",
    "rewardList = []\n",
    "\n",
    "for i in range(T):\n",
    "    \n",
    "    A, B, C = map(int, input().split())\n",
    "\n",
    "    if A == B and A == C:\n",
    "        reward = 10000 + (A*1000)\n",
    "        rewardList.append(reward)\n",
    "        continue\n",
    "    elif A == B or A == C:\n",
    "        reward = 1000 + (A*100)\n",
    "        rewardList.append(reward)\n",
    "        continue\n",
    "    elif B == C:\n",
    "        reward = 1000 + (B*100)\n",
    "        rewardList.append(reward)\n",
    "        continue\n",
    "    else:\n",
    "        reward = max(A, B, C) * 100\n",
    "        rewardList.append(reward)\n",
    "\n",
    "answer = max(rewardList)\n",
    "print(answer)"
   ]
  },
  {
   "cell_type": "code",
   "execution_count": 273,
   "id": "3135b586",
   "metadata": {},
   "outputs": [
    {
     "name": "stdout",
     "output_type": "stream",
     "text": [
      "D+\n",
      "1.3\n"
     ]
    }
   ],
   "source": [
    "# 2754번: 학점계산\n",
    "\n",
    "grade = input()\n",
    "score = 0\n",
    "\n",
    "if len(grade) == 2:\n",
    "    \n",
    "    if grade[0] == 'A':\n",
    "        score += 4\n",
    "    elif grade[0] == 'B':\n",
    "        score += 3\n",
    "    elif grade[0] == 'C':\n",
    "        score += 2\n",
    "    else:\n",
    "        score += 1\n",
    "\n",
    "    if grade[1] == '+':\n",
    "        score += 0.3\n",
    "    elif grade[1] == '-':\n",
    "        score -= 0.3\n",
    "else:\n",
    "    score = 0.0\n",
    "\n",
    "score = float(score)\n",
    "print(score)"
   ]
  },
  {
   "cell_type": "code",
   "execution_count": 275,
   "id": "c569560e",
   "metadata": {},
   "outputs": [
    {
     "name": "stdout",
     "output_type": "stream",
     "text": [
      "()()()))(\n",
      "80\n"
     ]
    }
   ],
   "source": [
    "# 7567번: 그릇\n",
    "\n",
    "string = input()\n",
    "height = 10\n",
    "\n",
    "for i in range(1, len(string)):\n",
    "    \n",
    "    if string[i-1] == string[i]:\n",
    "        height += 5\n",
    "    else:\n",
    "        height += 10\n",
    "\n",
    "print(height)"
   ]
  },
  {
   "cell_type": "code",
   "execution_count": 276,
   "id": "649f73c9",
   "metadata": {},
   "outputs": [
    {
     "name": "stdout",
     "output_type": "stream",
     "text": [
      "3\n",
      "0 100 70\n",
      "advertise\n",
      "100 130 30\n",
      "does not matter\n",
      "-100 -70 40\n",
      "do not advertise\n"
     ]
    }
   ],
   "source": [
    "# 5063번: TGN\n",
    "\n",
    "N = int(input())\n",
    "\n",
    "for i in range(N):\n",
    "    \n",
    "    r, e, c = map(int, input().split())\n",
    "    \n",
    "    if r > (e - c):\n",
    "        print(\"do not advertise\")\n",
    "    elif r < (e - c):\n",
    "        print(\"advertise\")\n",
    "    else:\n",
    "        print(\"does not matter\")"
   ]
  },
  {
   "cell_type": "code",
   "execution_count": 280,
   "id": "52307fef",
   "metadata": {},
   "outputs": [
    {
     "name": "stdout",
     "output_type": "stream",
     "text": [
      "6\n",
      "ABBABB\n",
      "B\n"
     ]
    }
   ],
   "source": [
    "# 10102번: 개표\n",
    "\n",
    "V = int(input())\n",
    "voted = input()\n",
    "\n",
    "cntA = 0\n",
    "cntB = 0\n",
    "\n",
    "for i in range(V):\n",
    "    if voted[i] == 'A':\n",
    "        cntA += 1\n",
    "    else:\n",
    "        cntB += 1\n",
    "\n",
    "if cntA > cntB:\n",
    "    print('A')\n",
    "elif cntA < cntB:\n",
    "    print('B')\n",
    "else:\n",
    "    print('Tie')"
   ]
  },
  {
   "cell_type": "code",
   "execution_count": 283,
   "id": "331dee79",
   "metadata": {},
   "outputs": [
    {
     "name": "stdout",
     "output_type": "stream",
     "text": [
      "3\n",
      "1\n",
      "0\n",
      "0\n",
      "Junhee is not cute!\n"
     ]
    }
   ],
   "source": [
    "# 10886번: 0 = not cute / 1 = cute\n",
    "\n",
    "N = int(input())\n",
    "cute = 0\n",
    "notcute = 0\n",
    "\n",
    "for i in range(N):\n",
    "    survey = input()\n",
    "    if survey == '0':\n",
    "        notcute += 1\n",
    "    else:\n",
    "        cute += 1\n",
    "\n",
    "if cute > notcute:\n",
    "    print(\"Junhee is cute!\")\n",
    "else:\n",
    "    print(\"Junhee is not cute!\")"
   ]
  },
  {
   "cell_type": "code",
   "execution_count": 309,
   "id": "66406d7b",
   "metadata": {},
   "outputs": [
    {
     "name": "stdout",
     "output_type": "stream",
     "text": [
      "abcba\n",
      "1\n"
     ]
    }
   ],
   "source": [
    "# 10988번: 팰린드롬인지 확인하기     -- 복잡하고 틀린 나의 풀이\n",
    "\n",
    "word = input()\n",
    "\n",
    "last_word = int(len(word)-1)\n",
    "mid_word = (len(word)-1) // 2\n",
    "\n",
    "for i in range(mid_word):\n",
    "    if word[i] == word[last_word]:\n",
    "        last_word -= 1\n",
    "    else:\n",
    "        print(\"0\")\n",
    "        break\n",
    "        \n",
    "    if i == (mid_word - 1):\n",
    "        print(\"1\")"
   ]
  },
  {
   "cell_type": "code",
   "execution_count": 319,
   "id": "82df24e2",
   "metadata": {},
   "outputs": [
    {
     "name": "stdout",
     "output_type": "stream",
     "text": [
      "baekjoon\n",
      "0\n"
     ]
    }
   ],
   "source": [
    "# 10988번: 팰린드롬인지 확인하기      -- 풀이 참고(문자열에 관한 이해!!)\n",
    "\n",
    "word = input()\n",
    "\n",
    "if word == word[::-1]:\n",
    "    print(1)\n",
    "else:\n",
    "    print(0)"
   ]
  },
  {
   "cell_type": "code",
   "execution_count": 321,
   "id": "784b0b9b",
   "metadata": {},
   "outputs": [
    {
     "name": "stdout",
     "output_type": "stream",
     "text": [
      "2 2\n",
      "4\n",
      "2 3\n",
      "5\n",
      "5 5\n",
      "10\n",
      "1 1\n",
      "2\n",
      "0 0\n"
     ]
    }
   ],
   "source": [
    "# 5717번: 상근이의 친구들\n",
    "\n",
    "while 1:\n",
    "    M, F = map(int, input().split())\n",
    "    \n",
    "    if M == 0 and F == 0:\n",
    "        break\n",
    "    \n",
    "    friends = M + F\n",
    "    print(friends)"
   ]
  },
  {
   "cell_type": "code",
   "execution_count": 324,
   "id": "efbf1df4",
   "metadata": {},
   "outputs": [
    {
     "name": "stdout",
     "output_type": "stream",
     "text": [
      "4\n",
      "5 6\n",
      "6 6\n",
      "4 3\n",
      "5 2\n",
      "94\n",
      "91\n"
     ]
    }
   ],
   "source": [
    "# 10103번: 주사위 게임\n",
    "\n",
    "n = int(input())\n",
    "cy_score = 100\n",
    "sd_score = 100\n",
    "\n",
    "for i in range(n):\n",
    "    cy, sd = map(int, input().split())\n",
    "    \n",
    "    if cy > sd:\n",
    "        sd_score -= cy\n",
    "    elif cy < sd:\n",
    "        cy_score -= sd\n",
    "    else:\n",
    "        continue\n",
    "        \n",
    "print(cy_score)\n",
    "print(sd_score)"
   ]
  },
  {
   "cell_type": "code",
   "execution_count": 330,
   "id": "0c8f7340",
   "metadata": {},
   "outputs": [
    {
     "name": "stdout",
     "output_type": "stream",
     "text": [
      "2\n",
      "3\n",
      "Yonsei 10\n",
      "Korea 1000000000\n",
      "Ewha 20\n",
      "Korea\n",
      "2\n",
      "Yonsei 1\n",
      "Korea 1000000000\n",
      "Korea\n"
     ]
    }
   ],
   "source": [
    "# 11557번: Yangjojang of The Year\n",
    "\n",
    "T = int(input())\n",
    "\n",
    "for i in range(T):\n",
    "    N = int(input())\n",
    "    max_alchol = 0\n",
    "    \n",
    "    for j in range(N):\n",
    "        S, L = input().split()\n",
    "        \n",
    "        if int(L) > max_alchol:\n",
    "            max_alchol = int(L)\n",
    "            max_school = S\n",
    "        else:\n",
    "            continue\n",
    "            \n",
    "    print(max_school)"
   ]
  },
  {
   "cell_type": "code",
   "execution_count": 331,
   "id": "3699b2ab",
   "metadata": {},
   "outputs": [
    {
     "name": "stdout",
     "output_type": "stream",
     "text": [
      "9223372036854775807 9223372036854775808\n",
      "18446744073709551615\n"
     ]
    }
   ],
   "source": [
    "# 10757번: 큰 수 A+B\n",
    "\n",
    "A, B = map(int, input().split())\n",
    "answer = A+B\n",
    "\n",
    "print(answer)"
   ]
  },
  {
   "cell_type": "code",
   "execution_count": 332,
   "id": "5eaff2ed",
   "metadata": {},
   "outputs": [
    {
     "name": "stdout",
     "output_type": "stream",
     "text": [
      "1\n",
      "1 0\n",
      "0 0\n",
      "0 0\n",
      "0 0\n",
      "0 0\n",
      "0 0\n",
      "0 0\n",
      "0 0\n",
      "0 0\n",
      "Yonsei\n"
     ]
    }
   ],
   "source": [
    "# 10214번: Baseball\n",
    "\n",
    "T = int(input())\n",
    "Yonsei_score = 0\n",
    "Korea_score = 0\n",
    "\n",
    "for i in range(T):\n",
    "    \n",
    "    for j in range(9):\n",
    "        \n",
    "        Y, K = map(int, input().split())\n",
    "        Yonsei_score += Y\n",
    "        Korea_score += K\n",
    "    \n",
    "    if Yonsei_score > Korea_score:\n",
    "        print(\"Yonsei\")\n",
    "    elif Yonsei_score < Korea_score:\n",
    "        print(\"Korea\")\n",
    "    else:\n",
    "        print(\"Draw\")"
   ]
  },
  {
   "cell_type": "code",
   "execution_count": 346,
   "id": "66c45e01",
   "metadata": {},
   "outputs": [
    {
     "name": "stdout",
     "output_type": "stream",
     "text": [
      "189\n",
      "-1\n"
     ]
    }
   ],
   "source": [
    "# 10162번: 전자레인지          -- 나의 풀이 (너무 긴가?)\n",
    "\n",
    "T = int(input())\n",
    "\n",
    "A = 300\n",
    "B = 60\n",
    "C = 10\n",
    "\n",
    "cnt_A = 0\n",
    "cnt_B = 0\n",
    "cnt_C = 0\n",
    "\n",
    "if T >= A:\n",
    "    cnt_A += T // A\n",
    "    T = T % A\n",
    "    \n",
    "    if T >= B:\n",
    "        cnt_B += T // B\n",
    "        T = T % B\n",
    "        if T >= C:\n",
    "            cnt_C += T // C\n",
    "            T = T % C\n",
    "            if T == 0:\n",
    "                print(cnt_A, cnt_B, cnt_C)\n",
    "            else:\n",
    "                print(-1)\n",
    "        else:\n",
    "            print(-1)\n",
    "\n",
    "    else:\n",
    "        if T >= C:\n",
    "            cnt_C += T // C\n",
    "            T = T % C\n",
    "            if T == 0:\n",
    "                print(cnt_A, cnt_B, cnt_C)\n",
    "            else:\n",
    "                print(-1)\n",
    "        else:\n",
    "            print(-1)\n",
    "\n",
    "else:\n",
    "    if T >= B:\n",
    "        cnt_B += T // B\n",
    "        T = T % B\n",
    "        \n",
    "        if T >= C:\n",
    "            cnt_C += T // C\n",
    "            T = T % C\n",
    "            if T == 0:\n",
    "                print(cnt_A, cnt_B, cnt_C)\n",
    "            else:\n",
    "                print(-1)\n",
    "        else:\n",
    "            print(-1)\n",
    "\n",
    "    else:\n",
    "        if T >= C:\n",
    "            cnt_C += T // C\n",
    "            T = T % C\n",
    "            if T == 0:\n",
    "                print(cnt_A, cnt_B, cnt_C)\n",
    "            else:\n",
    "                print(-1)\n",
    "        else:\n",
    "            print(-1)"
   ]
  },
  {
   "cell_type": "code",
   "execution_count": 348,
   "id": "ae768f9d",
   "metadata": {},
   "outputs": [
    {
     "name": "stdout",
     "output_type": "stream",
     "text": [
      "189\n",
      "-1\n"
     ]
    }
   ],
   "source": [
    "# 10162번: 전자레인지        -- 풀이 참고\n",
    "\n",
    "T = int(input())\n",
    "\n",
    "operation_time = [300, 60, 10]\n",
    "answer = []\n",
    "cnt = 0\n",
    "\n",
    "if T % 10 != 0:\n",
    "    print(-1)\n",
    "else:\n",
    "    for i in operation_time:\n",
    "        cnt = T // i\n",
    "        answer.append(cnt)\n",
    "        T = T % i\n",
    "    print(answer[0], answer[1], answer[2])"
   ]
  },
  {
   "cell_type": "code",
   "execution_count": 350,
   "id": "93d43846",
   "metadata": {},
   "outputs": [
    {
     "name": "stdout",
     "output_type": "stream",
     "text": [
      "189\n",
      "-1\n"
     ]
    }
   ],
   "source": [
    "# 10162번: 전자레인지        -- 풀이 참고 후 나의 풀이 (이게 시간은 덜 걸리네?)\n",
    "\n",
    "T = int(input())\n",
    "\n",
    "A = 300\n",
    "B = 60\n",
    "C = 10\n",
    "answer = []\n",
    "\n",
    "if T % 10 != 0:\n",
    "    print(-1)\n",
    "else:\n",
    "    answer.append(T // A)\n",
    "    T %= A\n",
    "    answer.append(T // B)\n",
    "    T %= B\n",
    "    answer.append(T // C)\n",
    "    \n",
    "    print(answer[0], answer[1], answer[2])"
   ]
  },
  {
   "cell_type": "code",
   "execution_count": 378,
   "id": "a5919935",
   "metadata": {},
   "outputs": [
    {
     "name": "stdout",
     "output_type": "stream",
     "text": [
      "6\n",
      "6 = 1 + 2 + 3\n",
      "12\n",
      "12 is NOT perfect.\n",
      "28\n",
      "28 = 1 + 2 + 4 + 7 + 14\n",
      "-1\n"
     ]
    }
   ],
   "source": [
    "# 9506번: 약수들의 합 다국어\n",
    "\n",
    "while 1:\n",
    "    n = int(input())\n",
    "    \n",
    "    if n == -1:\n",
    "        break\n",
    "    \n",
    "    measure = []\n",
    "    \n",
    "    for i in range(1, n):\n",
    "        if n % i == 0:\n",
    "            measure.append(i)\n",
    "    \n",
    "    if sum(measure) == n:\n",
    "        print(n, '=', end=' ')\n",
    "        print(*measure, sep=' + ')\n",
    "    else:\n",
    "        print(n, 'is NOT perfect.')"
   ]
  },
  {
   "cell_type": "code",
   "execution_count": 382,
   "id": "8299ddd5",
   "metadata": {},
   "outputs": [
    {
     "name": "stdout",
     "output_type": "stream",
     "text": [
      "5\n",
      "0 0\n",
      "0 1\n",
      "1 1\n",
      "3 -3\n",
      "2 2\n",
      "Q1: 2\n",
      "Q2: 0\n",
      "Q3: 0\n",
      "Q4: 1\n",
      "AXIS: 2\n"
     ]
    }
   ],
   "source": [
    "# 9610번: 사분면\n",
    "\n",
    "n = int(input())\n",
    "q1 = 0\n",
    "q2 = 0\n",
    "q3 = 0\n",
    "q4 = 0\n",
    "axis = 0\n",
    "\n",
    "for i in range(n):\n",
    "    \n",
    "    x, y = map(int, input().split())\n",
    "    \n",
    "    if x == 0 or y == 0:\n",
    "        axis += 1\n",
    "    \n",
    "    if x > 0 and y > 0:\n",
    "        q1 += 1\n",
    "    elif x < 0 and y > 0:\n",
    "        q2 += 1\n",
    "    elif x < 0 and y < 0:\n",
    "        q3 += 1\n",
    "    elif x > 0 and y < 0:\n",
    "        q4 += 1\n",
    "        \n",
    "print('Q1:', q1)\n",
    "print('Q2:', q2)\n",
    "print('Q3:', q3)\n",
    "print('Q4:', q4)\n",
    "print('AXIS:', axis)"
   ]
  },
  {
   "cell_type": "code",
   "execution_count": 383,
   "id": "85fdff7c",
   "metadata": {},
   "outputs": [
    {
     "name": "stdout",
     "output_type": "stream",
     "text": [
      "8 16\n",
      "factor\n",
      "32 4\n",
      "multiple\n",
      "17 5\n",
      "neither\n",
      "0 0\n"
     ]
    }
   ],
   "source": [
    "# 5086번: 배수와 약수\n",
    "\n",
    "while 1:\n",
    "    n, m = map(int, input().split())\n",
    "    \n",
    "    if n == 0 and m == 0:\n",
    "        break\n",
    "        \n",
    "    if m % n == 0:\n",
    "        print('factor')\n",
    "    elif n % m == 0:\n",
    "        print('multiple')\n",
    "    else:\n",
    "        print('neither')"
   ]
  },
  {
   "cell_type": "code",
   "execution_count": 384,
   "id": "781c7f6a",
   "metadata": {},
   "outputs": [
    {
     "name": "stdout",
     "output_type": "stream",
     "text": [
      "3\n",
      "1 45000\n",
      "45000\n",
      "6 10\n",
      "30\n",
      "13 17\n",
      "221\n"
     ]
    }
   ],
   "source": [
    "# 1934번: 최소공배수\n",
    "\n",
    "T = int(input())\n",
    "\n",
    "for i in range(T):\n",
    "    A, B = map(int, input().split())\n",
    "    \n",
    "    for j in range(max(A,B), (A*B)+1):\n",
    "        if j % A == 0 and j % B == 0:\n",
    "            print(j)\n",
    "            break"
   ]
  },
  {
   "cell_type": "code",
   "execution_count": 386,
   "id": "d0f2d32f",
   "metadata": {},
   "outputs": [
    {
     "name": "stdout",
     "output_type": "stream",
     "text": [
      "3\n",
      "1 45000\n",
      "45000\n",
      "6 10\n",
      "30\n",
      "13 17\n",
      "221\n"
     ]
    }
   ],
   "source": [
    "num = int(input())\n",
    "\n",
    "for i in range(num):\n",
    "    a,b = map(int,input().split())\n",
    "    A,B = a,b\n",
    "\n",
    "    while a!=0:\n",
    "        b = b%a\n",
    "        a,b = b,a   \n",
    "\n",
    "    gcd = b\n",
    "    lcm = A * B //b\n",
    "    print(lcm)"
   ]
  },
  {
   "cell_type": "code",
   "execution_count": null,
   "id": "7a6b0bec",
   "metadata": {},
   "outputs": [],
   "source": []
  },
  {
   "cell_type": "code",
   "execution_count": null,
   "id": "e088630b",
   "metadata": {},
   "outputs": [],
   "source": []
  }
 ],
 "metadata": {
  "kernelspec": {
   "display_name": "Python 3",
   "language": "python",
   "name": "python3"
  },
  "language_info": {
   "codemirror_mode": {
    "name": "ipython",
    "version": 3
   },
   "file_extension": ".py",
   "mimetype": "text/x-python",
   "name": "python",
   "nbconvert_exporter": "python",
   "pygments_lexer": "ipython3",
   "version": "3.8.8"
  }
 },
 "nbformat": 4,
 "nbformat_minor": 5
}
