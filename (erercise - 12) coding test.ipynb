{
 "cells": [
  {
   "cell_type": "code",
   "execution_count": 3,
   "id": "80aa831d",
   "metadata": {
    "scrolled": true
   },
   "outputs": [
    {
     "name": "stdout",
     "output_type": "stream",
     "text": [
      "10\n",
      "40\n",
      "30\n",
      "60\n",
      "30\n",
      "34\n",
      "30\n"
     ]
    }
   ],
   "source": [
    "# 2587번: 대표값2\n",
    "\n",
    "nums = []\n",
    "for i in range(5):\n",
    "    num = int(input())\n",
    "    nums.append(num)\n",
    "nums.sort()\n",
    "print(sum(nums)//5)\n",
    "print(nums[2])"
   ]
  },
  {
   "cell_type": "code",
   "execution_count": 4,
   "id": "45e190a2",
   "metadata": {},
   "outputs": [
    {
     "name": "stdout",
     "output_type": "stream",
     "text": [
      "5\n",
      "5\n",
      "2\n",
      "3\n",
      "4\n",
      "1\n",
      "1\n",
      "2\n",
      "3\n",
      "4\n",
      "5\n"
     ]
    }
   ],
   "source": [
    "# 2750번: 수 정렬하기\n",
    "\n",
    "N = int(input())\n",
    "nums = []\n",
    "for _ in range(N):\n",
    "    num = int(input())\n",
    "    nums.append(num)\n",
    "nums.sort()\n",
    "for i in nums:\n",
    "    print(i)"
   ]
  },
  {
   "cell_type": "code",
   "execution_count": 9,
   "id": "03ab2133",
   "metadata": {},
   "outputs": [
    {
     "name": "stdout",
     "output_type": "stream",
     "text": [
      "14\n",
      "14 26456 2 28 13228 3307 7 23149 8 6614 46298 56 4 92596\n",
      "185192\n"
     ]
    }
   ],
   "source": [
    "# 1037번: 약수\n",
    "\n",
    "N = int(input())\n",
    "measures = list(map(int, input().split()))\n",
    "measures.sort()\n",
    "\n",
    "if N == 1:\n",
    "    print(measures[0]**2)\n",
    "else:\n",
    "    print(measures[0] * measures[N-1])"
   ]
  },
  {
   "cell_type": "code",
   "execution_count": 20,
   "id": "6397f837",
   "metadata": {},
   "outputs": [
    {
     "name": "stdout",
     "output_type": "stream",
     "text": [
      "500613009\n",
      "965310000\n"
     ]
    }
   ],
   "source": [
    "# 1427번: 소트인사이드\n",
    "\n",
    "N = list(str(input()))\n",
    "N.sort(reverse=True)\n",
    "print(''.join(s for s in N))"
   ]
  },
  {
   "cell_type": "code",
   "execution_count": 28,
   "id": "a869dd91",
   "metadata": {},
   "outputs": [
    {
     "name": "stdout",
     "output_type": "stream",
     "text": [
      "10\n",
      "1\n",
      "3\n",
      "5\n",
      "4\n",
      "0\n",
      "0\n",
      "7\n",
      "0\n",
      "0\n",
      "6\n",
      "7\n"
     ]
    }
   ],
   "source": [
    "# 10773번: 제로\n",
    "\n",
    "K = int(input())\n",
    "ans = []\n",
    "for _ in range(K):\n",
    "    num = int(input())\n",
    "    if num != 0:\n",
    "        ans.append(num)\n",
    "    else:\n",
    "        del ans[-1]\n",
    "print(sum(ans))"
   ]
  },
  {
   "cell_type": "code",
   "execution_count": 38,
   "id": "ee3db980",
   "metadata": {},
   "outputs": [
    {
     "name": "stdout",
     "output_type": "stream",
     "text": [
      "8\n",
      "6\n",
      "5\n",
      "1\n",
      "37\n",
      "30\n",
      "28\n",
      "22\n",
      "36\n",
      "8\n",
      "6\n",
      "5\n",
      "1\n",
      "30\n",
      "28\n",
      "22\n"
     ]
    }
   ],
   "source": [
    "# 3040번: 백설 공주와 일곱 난쟁이\n",
    "\n",
    "from itertools import combinations\n",
    "nums = []\n",
    "for _ in range(9):\n",
    "    num = int(input())\n",
    "    nums.append(num)\n",
    "\n",
    "combi = list(combinations(nums, 7))\n",
    "for i in combi:\n",
    "    if sum(i) == 100:\n",
    "        ans = i\n",
    "        break\n",
    "for j in ans:\n",
    "    print(j)"
   ]
  },
  {
   "cell_type": "code",
   "execution_count": 46,
   "id": "4d14104d",
   "metadata": {},
   "outputs": [
    {
     "name": "stdout",
     "output_type": "stream",
     "text": [
      "3\n",
      "4 1\n",
      "1\n",
      "1\n",
      "1\n",
      "1\n",
      "3\n",
      "4 4\n",
      "1\n",
      "2\n",
      "3\n",
      "4\n",
      "0\n",
      "4 4\n",
      "1\n",
      "4\n",
      "1\n",
      "4\n",
      "2\n"
     ]
    }
   ],
   "source": [
    "# 5176번: 대회 자리\n",
    "\n",
    "K = int(input())\n",
    "for _ in range(K):\n",
    "    P, M = map(int, input().split())\n",
    "    los = []\n",
    "    for i in range(P):\n",
    "        lo = input()\n",
    "        if lo not in los:\n",
    "            los.append(lo)\n",
    "    print(P - len(los))"
   ]
  },
  {
   "cell_type": "code",
   "execution_count": 60,
   "id": "e4e4c545",
   "metadata": {},
   "outputs": [
    {
     "name": "stdout",
     "output_type": "stream",
     "text": [
      "2\n",
      "5 30 25 76 23 78\n",
      "Class 1\n",
      "Max 78, Min 23, Largest gap 46\n",
      "6 25 50 70 99 70 90\n",
      "Class 2\n",
      "Max 99, Min 25, Largest gap 25\n"
     ]
    }
   ],
   "source": [
    "# 5800번: 성적 통계\n",
    "\n",
    "K = int(input())\n",
    "for i in range(1, K+1):\n",
    "    num = list(map(int, input().split()))\n",
    "    score = num[1:]\n",
    "    score.sort(reverse=True)\n",
    "    gap = 0\n",
    "    for j in range(len(score)-1):\n",
    "        if score[j] - score[j+1] > gap:\n",
    "            gap = score[j] - score[j+1]\n",
    "    print('Class', i)\n",
    "    print('Max '+str(max(score))+', Min '+str(min(score))+', Largest gap '+str(gap))"
   ]
  },
  {
   "cell_type": "code",
   "execution_count": 63,
   "id": "41847337",
   "metadata": {},
   "outputs": [
    {
     "name": "stdout",
     "output_type": "stream",
     "text": [
      "20\n",
      "7\n",
      "23\n",
      "19\n",
      "10\n",
      "15\n",
      "25\n",
      "8\n",
      "13\n",
      "7\n",
      "8\n",
      "10\n",
      "13\n",
      "19\n",
      "20\n",
      "23\n"
     ]
    }
   ],
   "source": [
    "# 2309번: 일곱 난쟁이\n",
    "\n",
    "from itertools import combinations\n",
    "nums = []\n",
    "for _ in range(9):\n",
    "    num = int(input())\n",
    "    nums.append(num)\n",
    "combi = list(combinations(nums, 7))\n",
    "for i in combi:\n",
    "    if sum(i) == 100:\n",
    "        ans = i\n",
    "        break\n",
    "result = list(ans)\n",
    "result.sort()\n",
    "for j in result:\n",
    "    print(j)"
   ]
  },
  {
   "cell_type": "code",
   "execution_count": null,
   "id": "3aeed02d",
   "metadata": {},
   "outputs": [],
   "source": [
    "# 2822번: 점수 계산\n",
    "\n",
    "scores = []\n",
    "for _ in range(8):\n",
    "    score = int(input())\n",
    "    scores.append(score)\n",
    "\n",
    "scores.sort(reverse=True)\n",
    "totalscore = scores[:5]\n",
    "print(sum(totalscore))\n",
    "loca = []\n",
    "for i in range(5):\n",
    "    "
   ]
  },
  {
   "cell_type": "code",
   "execution_count": 83,
   "id": "ac707039",
   "metadata": {
    "scrolled": false
   },
   "outputs": [
    {
     "name": "stdout",
     "output_type": "stream",
     "text": [
      "20\n",
      "30\n",
      "50\n",
      "80\n",
      "110\n",
      "11\n",
      "0\n",
      "85\n",
      "355\n",
      "2 3 4 5 8\n"
     ]
    }
   ],
   "source": [
    "# 2822번: 점수 계산\n",
    "\n",
    "scores = {}\n",
    "for i in range(1,9):\n",
    "    score = int(input())\n",
    "    scores[i] = score\n",
    "fisco = sorted(scores, key=lambda x:scores[x], reverse=True)\n",
    "totalscore = 0\n",
    "for j in range(5):\n",
    "    totalscore += scores.get(fisco[j])\n",
    "print(totalscore)\n",
    "lastscore = fisco[:5]\n",
    "lastscore.sort()\n",
    "print(' '.join(str(s) for s in lastscore))"
   ]
  },
  {
   "cell_type": "code",
   "execution_count": 86,
   "id": "a8c3117d",
   "metadata": {},
   "outputs": [
    {
     "name": "stdout",
     "output_type": "stream",
     "text": [
      "2\n",
      "4\n",
      "24 13 89 37\n",
      "152\n",
      "6\n",
      "7 30 41 14 39 42\n",
      "70\n"
     ]
    }
   ],
   "source": [
    "# 5054번: 주차의 신\n",
    "\n",
    "t = int(input())\n",
    "for i in range(t):\n",
    "    n = int(input())\n",
    "    xi = list(map(int, input().split()))\n",
    "    xi.sort()\n",
    "    di = 0\n",
    "    for j in range(n):\n",
    "        if j != (n-1):\n",
    "            di += xi[j+1] - xi[j]\n",
    "        else:\n",
    "            di += xi[j] - xi[0]\n",
    "    print(di)"
   ]
  },
  {
   "cell_type": "code",
   "execution_count": 109,
   "id": "45374464",
   "metadata": {},
   "outputs": [
    {
     "name": "stdout",
     "output_type": "stream",
     "text": [
      "3\n",
      "0\n"
     ]
    }
   ],
   "source": [
    "# 1676번: 팩토리얼 0의 개수\n",
    "\n",
    "N = int(input())\n",
    "fanum = 1\n",
    "for i in range(N):\n",
    "    fanum *= (i+1)\n",
    "ans = 0\n",
    "for i in list(str(fanum)[::-1]):\n",
    "    if i == '0':\n",
    "        ans += 1\n",
    "    else:\n",
    "        break\n",
    "print(ans)"
   ]
  }
 ],
 "metadata": {
  "kernelspec": {
   "display_name": "Python 3",
   "language": "python",
   "name": "python3"
  },
  "language_info": {
   "codemirror_mode": {
    "name": "ipython",
    "version": 3
   },
   "file_extension": ".py",
   "mimetype": "text/x-python",
   "name": "python",
   "nbconvert_exporter": "python",
   "pygments_lexer": "ipython3",
   "version": "3.8.8"
  }
 },
 "nbformat": 4,
 "nbformat_minor": 5
}
