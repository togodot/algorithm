{
 "cells": [
  {
   "cell_type": "code",
   "execution_count": 3,
   "id": "72a14b75",
   "metadata": {},
   "outputs": [
    {
     "name": "stdout",
     "output_type": "stream",
     "text": [
      "1\n",
      "22 3\n",
      "You get 7 piece(s) and your dad gets 1 piece(s).\n"
     ]
    }
   ],
   "source": [
    "# 10178벙: 할로윈의 사탕\n",
    "\n",
    "T = int(input())\n",
    "for i in range(T):\n",
    "    c, v = map(int, input().split())\n",
    "    sons = c//v\n",
    "    father = c%v\n",
    "    print(\"You get\", sons, \"piece(s) and your dad gets\", father, \"piece(s).\")"
   ]
  },
  {
   "cell_type": "code",
   "execution_count": 8,
   "id": "bcf23cf9",
   "metadata": {},
   "outputs": [
    {
     "name": "stdout",
     "output_type": "stream",
     "text": [
      "1\n",
      "1 2\n",
      "Case 1: 3\n"
     ]
    }
   ],
   "source": [
    "# 9295번: 주사위\n",
    "\n",
    "T = int(input())\n",
    "for i in range(1, T+1):\n",
    "    n, m = map(int, input().split())\n",
    "    print(\"Case \"+str(i)+\": \"+str(n+m))"
   ]
  },
  {
   "cell_type": "code",
   "execution_count": 11,
   "id": "751666be",
   "metadata": {},
   "outputs": [
    {
     "name": "stdout",
     "output_type": "stream",
     "text": [
      "5\n",
      "1 2\n",
      "Case 1: 3\n",
      "1 3\n",
      "Case 2: 4\n",
      "3 5\n",
      "Case 3: 8\n",
      "2 6\n",
      "Case 4: 8\n",
      "3 4\n",
      "Case 5: 7\n"
     ]
    }
   ],
   "source": [
    "# 9295번: 주사위\n",
    "\n",
    "T = int(input())\n",
    "for i in range(1, T+1):\n",
    "    n, m = map(int, input().split())\n",
    "    print('Case {}:'.format(i), n+m)"
   ]
  },
  {
   "cell_type": "code",
   "execution_count": 15,
   "id": "ac6fd49b",
   "metadata": {},
   "outputs": [
    {
     "name": "stdout",
     "output_type": "stream",
     "text": [
      "15\n",
      "2040\n"
     ]
    }
   ],
   "source": [
    "# 2921번: 도미노\n",
    "\n",
    "N = int(input())\n",
    "ans = 0\n",
    "\n",
    "for i in range(1, N+1):\n",
    "    ans += 1.5*i*(i+1)\n",
    "print(int(ans))"
   ]
  },
  {
   "cell_type": "code",
   "execution_count": 22,
   "id": "f2025aa4",
   "metadata": {
    "scrolled": true
   },
   "outputs": [
    {
     "name": "stdout",
     "output_type": "stream",
     "text": [
      "13:52:30\n",
      "14:00:00\n",
      "00:07:30\n"
     ]
    }
   ],
   "source": [
    "# 1408번: 24\n",
    "\n",
    "h2, m2, s2 = map(int, input().split(':'))\n",
    "h1, m1, s1 = map(int, input().split(':'))\n",
    "present = s2 + m2 * 60 + h2 * 60 * 60\n",
    "start = s1 + m1 * 60 + h1 * 60 * 60\n",
    "if present > start :\n",
    "    start += (24 * 60 * 60)\n",
    "result = start - present\n",
    "print(\"%.2d:\" %(result//3600), end = '')\n",
    "result = result % 3600\n",
    "print(\"%.2d:\" %(result//60), end = '')\n",
    "print(\"%.2d\" %(result%60))"
   ]
  },
  {
   "cell_type": "code",
   "execution_count": 38,
   "id": "0dd4bf97",
   "metadata": {},
   "outputs": [
    {
     "name": "stdout",
     "output_type": "stream",
     "text": [
      "1\n",
      "4\n",
      "3 4.3\n",
      "2 2.0\n",
      "4 0.0\n",
      "2 4.0\n",
      "11 2.3\n"
     ]
    }
   ],
   "source": [
    "# 10984번: 내 학점을 구해줘\n",
    "\n",
    "T = int(input())\n",
    "\n",
    "for i in range(T):\n",
    "    N = int(input())\n",
    "    grade = 0\n",
    "    score = 0\n",
    "    for j in range(N):\n",
    "        C, G = map(float, input().split())\n",
    "        grade += C\n",
    "        score += C*G\n",
    "    GPA = score / grade\n",
    "    print(int(grade), \"%.1f\" %(GPA))"
   ]
  }
 ],
 "metadata": {
  "kernelspec": {
   "display_name": "Python 3",
   "language": "python",
   "name": "python3"
  },
  "language_info": {
   "codemirror_mode": {
    "name": "ipython",
    "version": 3
   },
   "file_extension": ".py",
   "mimetype": "text/x-python",
   "name": "python",
   "nbconvert_exporter": "python",
   "pygments_lexer": "ipython3",
   "version": "3.8.8"
  }
 },
 "nbformat": 4,
 "nbformat_minor": 5
}
