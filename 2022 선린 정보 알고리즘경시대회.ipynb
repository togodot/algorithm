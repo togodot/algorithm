{
 "cells": [
  {
   "cell_type": "code",
   "execution_count": 29,
   "id": "db4612b3",
   "metadata": {},
   "outputs": [
    {
     "name": "stdout",
     "output_type": "stream",
     "text": [
      "5\n",
      "AAA\n",
      "1 2\n",
      "ABBA\n",
      "1 3\n",
      "ABABA\n",
      "1 3\n",
      "ABCA\n",
      "0 2\n",
      "PALINDROME\n",
      "0 1\n"
     ]
    }
   ],
   "source": [
    "# A번 - 재귀의 귀재           -- 런타임에러(이유 찾는 중)\n",
    "\n",
    "def recursion(s, l, r):\n",
    "    global re\n",
    "    re += 1\n",
    "    if l >= r:\n",
    "        return 1\n",
    "    elif s[l] != s[r]:\n",
    "        return 0\n",
    "    else:\n",
    "        return recursion(s, l+1, r-1)\n",
    "\n",
    "def isPalindrome(s):\n",
    "    return recursion(s, 0, len(s)-1)\n",
    "\n",
    "T = int(input())\n",
    "for _ in range(T):\n",
    "    S = str(input())\n",
    "    ans = isPalindrome(S)\n",
    "    print(ans, re)\n",
    "    re = 0"
   ]
  },
  {
   "cell_type": "code",
   "execution_count": 45,
   "id": "e0d88222",
   "metadata": {},
   "outputs": [
    {
     "name": "stdout",
     "output_type": "stream",
     "text": [
      "5\n",
      "AAA\n",
      "1 2 ABBA\n",
      "1 3 ABABA\n",
      "1 3 ABCA\n",
      "0 2 PALINDROME\n",
      "0 1 "
     ]
    }
   ],
   "source": [
    "# A번 - 재귀의 귀재       -- 맞았습니다!\n",
    "\n",
    "def recursion(s, l, r):\n",
    "    if l >= r:\n",
    "        return 1, l+1\n",
    "    elif s[l] != s[r]:\n",
    "        return 0, l+1\n",
    "    else:\n",
    "        return recursion(s, l+1, r-1)\n",
    "\n",
    "def isPalindrome(s):\n",
    "    return recursion(s, 0, len(s)-1)\n",
    "\n",
    "T = int(input())\n",
    "\n",
    "for _ in range(T):\n",
    "    S = str(input())\n",
    "    for i in range(2):\n",
    "        print(isPalindrome(S)[i], end=' ')"
   ]
  },
  {
   "cell_type": "code",
   "execution_count": 75,
   "id": "bb791076",
   "metadata": {},
   "outputs": [
    {
     "name": "stdout",
     "output_type": "stream",
     "text": [
      "4 1\n",
      "1 2 3 4\n"
     ]
    },
    {
     "ename": "TypeError",
     "evalue": "unsupported operand type(s) for -: 'list' and 'int'",
     "output_type": "error",
     "traceback": [
      "\u001b[0;31m---------------------------------------------------------------------------\u001b[0m",
      "\u001b[0;31mTypeError\u001b[0m                                 Traceback (most recent call last)",
      "\u001b[0;32m<ipython-input-75-bc653524d68b>\u001b[0m in \u001b[0;36m<module>\u001b[0;34m\u001b[0m\n\u001b[1;32m     12\u001b[0m         \u001b[0;32mreturn\u001b[0m \u001b[0marith\u001b[0m\u001b[0;34m(\u001b[0m\u001b[0ms\u001b[0m\u001b[0;34m,\u001b[0m \u001b[0ml\u001b[0m\u001b[0;34m-\u001b[0m\u001b[0;36m1\u001b[0m\u001b[0;34m)\u001b[0m\u001b[0;34m\u001b[0m\u001b[0;34m\u001b[0m\u001b[0m\n\u001b[1;32m     13\u001b[0m \u001b[0;34m\u001b[0m\u001b[0m\n\u001b[0;32m---> 14\u001b[0;31m \u001b[0marith\u001b[0m\u001b[0;34m(\u001b[0m\u001b[0mA\u001b[0m\u001b[0;34m,\u001b[0m \u001b[0mN\u001b[0m\u001b[0;34m)\u001b[0m\u001b[0;34m\u001b[0m\u001b[0;34m\u001b[0m\u001b[0m\n\u001b[0m\u001b[1;32m     15\u001b[0m \u001b[0;34m\u001b[0m\u001b[0m\n\u001b[1;32m     16\u001b[0m \u001b[0;34m\u001b[0m\u001b[0m\n",
      "\u001b[0;32m<ipython-input-75-bc653524d68b>\u001b[0m in \u001b[0;36marith\u001b[0;34m(s, l)\u001b[0m\n\u001b[1;32m      7\u001b[0m     \u001b[0;32mif\u001b[0m \u001b[0ml\u001b[0m \u001b[0;34m<\u001b[0m \u001b[0;36m3\u001b[0m\u001b[0;34m:\u001b[0m\u001b[0;34m\u001b[0m\u001b[0;34m\u001b[0m\u001b[0m\n\u001b[1;32m      8\u001b[0m         \u001b[0;32mreturn\u001b[0m \u001b[0;36m0\u001b[0m\u001b[0;34m\u001b[0m\u001b[0;34m\u001b[0m\u001b[0m\n\u001b[0;32m----> 9\u001b[0;31m     \u001b[0;32melif\u001b[0m \u001b[0ms\u001b[0m\u001b[0;34m(\u001b[0m\u001b[0;34m[\u001b[0m\u001b[0ml\u001b[0m\u001b[0;34m-\u001b[0m\u001b[0;36m1\u001b[0m\u001b[0;34m]\u001b[0m \u001b[0;34m-\u001b[0m \u001b[0ms\u001b[0m\u001b[0;34m[\u001b[0m\u001b[0ml\u001b[0m\u001b[0;34m-\u001b[0m\u001b[0;36m2\u001b[0m\u001b[0;34m]\u001b[0m\u001b[0;34m)\u001b[0m \u001b[0;34m!=\u001b[0m \u001b[0ms\u001b[0m\u001b[0;34m(\u001b[0m\u001b[0;34m[\u001b[0m\u001b[0ml\u001b[0m\u001b[0;34m-\u001b[0m\u001b[0;36m2\u001b[0m\u001b[0;34m]\u001b[0m \u001b[0;34m-\u001b[0m \u001b[0ms\u001b[0m\u001b[0;34m[\u001b[0m\u001b[0ml\u001b[0m\u001b[0;34m-\u001b[0m\u001b[0;36m3\u001b[0m\u001b[0;34m]\u001b[0m\u001b[0;34m)\u001b[0m\u001b[0;34m:\u001b[0m\u001b[0;34m\u001b[0m\u001b[0;34m\u001b[0m\u001b[0m\n\u001b[0m\u001b[1;32m     10\u001b[0m         \u001b[0;32mpass\u001b[0m\u001b[0;34m\u001b[0m\u001b[0;34m\u001b[0m\u001b[0m\n\u001b[1;32m     11\u001b[0m     \u001b[0;32melse\u001b[0m\u001b[0;34m:\u001b[0m\u001b[0;34m\u001b[0m\u001b[0;34m\u001b[0m\u001b[0m\n",
      "\u001b[0;31mTypeError\u001b[0m: unsupported operand type(s) for -: 'list' and 'int'"
     ]
    }
   ],
   "source": [
    "# B번 - 등차수열? 등비수열?      -- 코드 짜는중!\n",
    "\n",
    "# 첫번쨰 시도: 2번째 값과 1번째 값 차이를 활용해 등차수열 검증 후, 등비수열을 확인하는 for문을 반복하려고 했지만 등비수열이 확인이 안 되었다.\n",
    "# 두번째 시도: 등차수열을 확인하는 함수와 등비수열을 확인하는 함수를 정의한 후 재귀함수로 돌리려고 했는데 머리가 안 돌아갔다.\n",
    "\n",
    "N, M = map(int, input().split())\n",
    "A = list(map(int, input().split()))\n",
    "\n",
    "def arith(s, l):\n",
    "    if l < 3:\n",
    "        return 0   \n",
    "    elif s([l-1] - s[l-2]) != s([l-2] - s[l-3]):\n",
    "        pass\n",
    "    else:\n",
    "        return arith(s, l-1)\n",
    "    \n",
    "arith(A, N)\n",
    "    \n",
    "    \n",
    "    \n",
    "# def geo\n",
    "\n",
    "# for _ in range(M):\n",
    "#     i, x = map(int, input().split())    \n",
    "#     A[i-1] = x\n",
    "#     print(A)\n",
    "#     if (A[1] - A[0]) == (A[2] - A[1]):      # 등차수열이 의심된다면\n",
    "#         r = A[1] - A[0]\n",
    "#         for j in range(N):\n",
    "#             if (A[j] - A[j-1]) != r:\n",
    "#                 pass\n",
    "#             else:\n",
    "#                 if j == (N-1):\n",
    "#                     print('+')\n",
    "                    \n",
    "#     if (A[1]/A[0]) == (A[2]/A[1]):      # 등비수열이 의심된다면\n",
    "#         r = A[1]/A[0]\n",
    "#         for j in range(N):\n",
    "#             if (A[j]/A[j-1]) != r:\n",
    "#                 pass\n",
    "#             else:\n",
    "#                 if j == (N-1):\n",
    "#                     print('*')\n",
    "#     else:\n",
    "#         print('?')\n",
    "    \n",
    "\n",
    "    \n",
    "    \n",
    "#     if (A[i] - A[i-1]) == (A[i+1] - A[i]):\n",
    "#         i += 1\n",
    "#     else:\n",
    "        "
   ]
  }
 ],
 "metadata": {
  "kernelspec": {
   "display_name": "Python 3",
   "language": "python",
   "name": "python3"
  },
  "language_info": {
   "codemirror_mode": {
    "name": "ipython",
    "version": 3
   },
   "file_extension": ".py",
   "mimetype": "text/x-python",
   "name": "python",
   "nbconvert_exporter": "python",
   "pygments_lexer": "ipython3",
   "version": "3.8.8"
  }
 },
 "nbformat": 4,
 "nbformat_minor": 5
}
