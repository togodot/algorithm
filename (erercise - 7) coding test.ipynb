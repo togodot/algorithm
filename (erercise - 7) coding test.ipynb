{
 "cells": [
  {
   "cell_type": "code",
   "execution_count": 7,
   "id": "cc2ccae3",
   "metadata": {},
   "outputs": [
    {
     "name": "stdout",
     "output_type": "stream",
     "text": [
      "4\n",
      "10 8 5 7 9\n",
      "24\n",
      "10 9 10 9 5\n",
      "28\n",
      "10 3 5 9 10\n",
      "KIN\n",
      "1 2 3 6 9\n",
      "KIN\n"
     ]
    }
   ],
   "source": [
    "# 9076번: 점수 집계\n",
    "\n",
    "T = int(input())\n",
    "\n",
    "for _ in range(T):\n",
    "    score = list(map(int, input().split()))\n",
    "    score.remove(max(score))\n",
    "    score.remove(min(score))\n",
    "    if max(score) - min(score) >= 4:\n",
    "        print('KIN')\n",
    "    else:\n",
    "        print(sum(score))"
   ]
  },
  {
   "cell_type": "code",
   "execution_count": 16,
   "id": "73ba40a0",
   "metadata": {},
   "outputs": [
    {
     "name": "stdout",
     "output_type": "stream",
     "text": [
      "baekjoon\n",
      "4\n"
     ]
    }
   ],
   "source": [
    "# 10987번: 모음의 개수\n",
    "\n",
    "s = list(input())\n",
    "vowels = ['a', 'e', 'i', 'o', 'u']\n",
    "cnt = 0\n",
    "\n",
    "for i in s:\n",
    "    if i in vowels:\n",
    "        cnt += 1\n",
    "print(cnt)"
   ]
  },
  {
   "cell_type": "code",
   "execution_count": 19,
   "id": "04d13c5a",
   "metadata": {},
   "outputs": [
    {
     "name": "stdout",
     "output_type": "stream",
     "text": [
      "h0ngjun7\n",
      ":fan::fan::fan:\n",
      ":fan::h0ngjun7::fan:\n",
      ":fan::fan::fan:\n"
     ]
    }
   ],
   "source": [
    "# 14581번: 팬들에게 둘러싸인 홍준\n",
    "\n",
    "hid = input()\n",
    "print(':fan::fan::fan:\\n:fan::'+hid+'::fan:\\n:fan::fan::fan:')"
   ]
  },
  {
   "cell_type": "code",
   "execution_count": 21,
   "id": "711ca449",
   "metadata": {},
   "outputs": [
    {
     "name": "stdout",
     "output_type": "stream",
     "text": [
      "3 6 9\n",
      "2\n",
      "1 2 3\n",
      "1 1 1\n",
      "2 2 2\n",
      "0 0 0\n",
      "0 1 0\n",
      "3 3 3\n",
      "96\n"
     ]
    }
   ],
   "source": [
    "# 23348번: 스트릿 코딩 파이터\n",
    "\n",
    "A, B, C = map(int, input().split())\n",
    "N = int(input())\n",
    "scoreList = []\n",
    "\n",
    "for _ in range(N):\n",
    "    score = 0\n",
    "    for _ in range(3):\n",
    "        a, b, c = map(int, input().split())\n",
    "        score += (a*A) + (b*B) + (c*C)\n",
    "    scoreList.append(score)\n",
    "\n",
    "print(max(scoreList))"
   ]
  },
  {
   "cell_type": "code",
   "execution_count": 22,
   "id": "1372ed2e",
   "metadata": {},
   "outputs": [
    {
     "name": "stdout",
     "output_type": "stream",
     "text": [
      "2\n",
      "5 3\n",
      "1 2\n",
      "7 5\n",
      "3 2\n"
     ]
    }
   ],
   "source": [
    "# 11006번: 남욱이의 닭장\n",
    "\n",
    "T = int(input())\n",
    "\n",
    "for _ in range(T):\n",
    "    N, M = map(int, input().split())\n",
    "    U = 2*M - N\n",
    "    T = M - U\n",
    "    print(U, end=' ')\n",
    "    print(T)"
   ]
  },
  {
   "cell_type": "code",
   "execution_count": 23,
   "id": "c2b42346",
   "metadata": {},
   "outputs": [
    {
     "name": "stdout",
     "output_type": "stream",
     "text": [
      "2\n",
      "5 3\n",
      "1 2\n",
      "7 5\n",
      "3 2\n"
     ]
    }
   ],
   "source": [
    "# 11006번: 남욱이의 닭장\n",
    "\n",
    "T = int(input())\n",
    "\n",
    "for _ in range(T):\n",
    "    N, M = map(int, input().split())\n",
    "    U = 2*M - N\n",
    "    T = M - U\n",
    "    print(U, T)"
   ]
  }
 ],
 "metadata": {
  "kernelspec": {
   "display_name": "Python 3",
   "language": "python",
   "name": "python3"
  },
  "language_info": {
   "codemirror_mode": {
    "name": "ipython",
    "version": 3
   },
   "file_extension": ".py",
   "mimetype": "text/x-python",
   "name": "python",
   "nbconvert_exporter": "python",
   "pygments_lexer": "ipython3",
   "version": "3.8.8"
  }
 },
 "nbformat": 4,
 "nbformat_minor": 5
}
