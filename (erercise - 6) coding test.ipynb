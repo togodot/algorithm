{
 "cells": [
  {
   "cell_type": "code",
   "execution_count": 15,
   "id": "7d722ca1",
   "metadata": {},
   "outputs": [
    {
     "name": "stdout",
     "output_type": "stream",
     "text": [
      "KARIJERA\n",
      "KJ\n"
     ]
    }
   ],
   "source": [
    "# 2789번: 유학 금지\n",
    "\n",
    "S = input()\n",
    "T = 'CAMBRIDGE'\n",
    "\n",
    "for i in range(9):\n",
    "    S = S.replace(T[i], '')\n",
    "print(S)"
   ]
  },
  {
   "cell_type": "code",
   "execution_count": 23,
   "id": "24636fa5",
   "metadata": {},
   "outputs": [
    {
     "name": "stdout",
     "output_type": "stream",
     "text": [
      "WrongAnswer\n",
      "wRONGaNSWER\n"
     ]
    }
   ],
   "source": [
    "# 2744번: 대소문자 바꾸기\n",
    "\n",
    "S = input()\n",
    "NS = []\n",
    "ans = ''\n",
    "\n",
    "for i in range(len(S)):\n",
    "    if S[i].isupper() == True:\n",
    "        NS.append(S[i].lower())\n",
    "    else:\n",
    "        NS.append(S[i].upper())\n",
    "\n",
    "for j in NS:\n",
    "    ans += j\n",
    "    \n",
    "print(ans)"
   ]
  },
  {
   "cell_type": "code",
   "execution_count": 24,
   "id": "03dc33b9",
   "metadata": {},
   "outputs": [
    {
     "name": "stdout",
     "output_type": "stream",
     "text": [
      "WrongAnswer\n",
      "wRONGaNSWER\n"
     ]
    }
   ],
   "source": [
    "# 2744번: 대소문자 바꾸기\n",
    "\n",
    "S = input()\n",
    "ans = ''\n",
    "\n",
    "for i in range(len(S)):\n",
    "    if S[i].isupper() == True:\n",
    "        ans += S[i].lower()\n",
    "    else:\n",
    "        ans += S[i].upper()\n",
    "\n",
    "print(ans)"
   ]
  },
  {
   "cell_type": "code",
   "execution_count": 31,
   "id": "bf8f440d",
   "metadata": {},
   "outputs": [
    {
     "name": "stdout",
     "output_type": "stream",
     "text": [
      "1 2\n",
      "0\n",
      "6 10\n",
      "2\n",
      "1 1000000000\n",
      "-999999998\n",
      "0 0\n"
     ]
    }
   ],
   "source": [
    "# 5691번: 평균 중앙값 문제\n",
    "\n",
    "while 1:\n",
    "    A, B = map(int, input().split())\n",
    "    if A == 0 and B == 0:\n",
    "        break\n",
    "    C = 2 * A - B\n",
    "    print(C)"
   ]
  }
 ],
 "metadata": {
  "kernelspec": {
   "display_name": "Python 3",
   "language": "python",
   "name": "python3"
  },
  "language_info": {
   "codemirror_mode": {
    "name": "ipython",
    "version": 3
   },
   "file_extension": ".py",
   "mimetype": "text/x-python",
   "name": "python",
   "nbconvert_exporter": "python",
   "pygments_lexer": "ipython3",
   "version": "3.8.8"
  }
 },
 "nbformat": 4,
 "nbformat_minor": 5
}
