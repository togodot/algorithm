{
 "cells": [
  {
   "cell_type": "code",
   "execution_count": 2,
   "id": "3434c2c8",
   "metadata": {},
   "outputs": [
    {
     "name": "stdout",
     "output_type": "stream",
     "text": [
      "9 1\n",
      "9 5 8 1 3 2 7 6 4\n",
      "10\n"
     ]
    }
   ],
   "source": [
    "# 16435번: 스네이크버드\n",
    "\n",
    "N, L = map(int, input().split())\n",
    "h = list(map(int, input().split()))\n",
    "h.sort()\n",
    "l = L\n",
    "\n",
    "for i in h:\n",
    "    if i <= l:\n",
    "        l += 1\n",
    "    else:\n",
    "        break\n",
    "print(l)"
   ]
  },
  {
   "cell_type": "code",
   "execution_count": 5,
   "id": "bcf5a358",
   "metadata": {
    "scrolled": true
   },
   "outputs": [
    {
     "name": "stdout",
     "output_type": "stream",
     "text": [
      "8071\n"
     ]
    }
   ],
   "source": [
    "import random\n",
    "print(random.randint(1,10000))"
   ]
  },
  {
   "cell_type": "code",
   "execution_count": 9,
   "id": "8e3f3d77",
   "metadata": {
    "scrolled": true
   },
   "outputs": [
    {
     "name": "stdout",
     "output_type": "stream",
     "text": [
      "5\n",
      "5\n",
      "4\n",
      "3\n",
      "2\n",
      "1\n",
      "1\n",
      "2\n",
      "3\n",
      "4\n",
      "5\n"
     ]
    }
   ],
   "source": [
    "# 2751번: 수 정렬하기 2\n",
    "\n",
    "N = int(input())\n",
    "nums = []\n",
    "for _ in range(N):\n",
    "    n = int(input())\n",
    "    nums.append(n)\n",
    "nums.sort()\n",
    "print(\"\\n\".join(str(s) for s in nums))"
   ]
  },
  {
   "cell_type": "code",
   "execution_count": null,
   "id": "a7e89a50",
   "metadata": {},
   "outputs": [],
   "source": [
    "import sys\n",
    "x = int(sys.stdin.readline())\n",
    "b = []\n",
    "for i in range(x):\n",
    "    a = int(sys.stdin.readline())\n",
    "    b.append(a)\n",
    "b = sorted(b)\n",
    "for t in b:\n",
    "    print(t)"
   ]
  },
  {
   "cell_type": "code",
   "execution_count": 17,
   "id": "76e4342c",
   "metadata": {
    "scrolled": false
   },
   "outputs": [
    {
     "name": "stdout",
     "output_type": "stream",
     "text": [
      "10\n",
      "5\n",
      "2\n",
      "3\n",
      "1\n",
      "4\n",
      "2\n",
      "3\n",
      "5\n",
      "1\n",
      "7\n",
      "1\n",
      "1\n",
      "2\n",
      "2\n",
      "3\n",
      "3\n",
      "4\n",
      "5\n",
      "5\n",
      "7\n"
     ]
    }
   ],
   "source": [
    "# 2751번: 수 정렬하기 2\n",
    "\n",
    "N = int(input())\n",
    "nums = []\n",
    "for _ in range(N):\n",
    "    n = int(input())\n",
    "    nums.append(n)\n",
    "nums.sort()\n",
    "print(\"\\n\".join(str(s) for s in nums))"
   ]
  },
  {
   "cell_type": "code",
   "execution_count": 12,
   "id": "c9a4ab7b",
   "metadata": {},
   "outputs": [
    {
     "name": "stdout",
     "output_type": "stream",
     "text": [
      "77 77 7777\n",
      "7931\n"
     ]
    }
   ],
   "source": [
    "# 11382번: 꼬마 정민\n",
    "\n",
    "A, B, C = map(int, input().split())\n",
    "print(A+B+C)"
   ]
  },
  {
   "cell_type": "code",
   "execution_count": 15,
   "id": "48223cda",
   "metadata": {},
   "outputs": [
    {
     "name": "stdout",
     "output_type": "stream",
     "text": [
      "100\n",
      "200\n",
      "100\n"
     ]
    }
   ],
   "source": [
    "# 24086번: 身長 (Height)\n",
    "\n",
    "A = int(input())\n",
    "B = int(input())\n",
    "print(B-A)"
   ]
  },
  {
   "cell_type": "code",
   "execution_count": 16,
   "id": "74bf28c6",
   "metadata": {},
   "outputs": [
    {
     "name": "stdout",
     "output_type": "stream",
     "text": [
      "4\n",
      "-100 100\n",
      "0\n",
      "2 3\n",
      "5\n",
      "0 110101\n",
      "110101\n",
      "-1000000000 1\n",
      "-999999999\n"
     ]
    }
   ],
   "source": [
    "# 7891번: Can you add this?\n",
    "\n",
    "t = int(input())\n",
    "for _ in range(t):\n",
    "    x, y = map(int, input().split())\n",
    "    print(x+y)"
   ]
  }
 ],
 "metadata": {
  "kernelspec": {
   "display_name": "Python 3",
   "language": "python",
   "name": "python3"
  },
  "language_info": {
   "codemirror_mode": {
    "name": "ipython",
    "version": 3
   },
   "file_extension": ".py",
   "mimetype": "text/x-python",
   "name": "python",
   "nbconvert_exporter": "python",
   "pygments_lexer": "ipython3",
   "version": "3.8.8"
  }
 },
 "nbformat": 4,
 "nbformat_minor": 5
}
