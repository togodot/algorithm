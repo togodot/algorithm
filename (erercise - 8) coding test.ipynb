{
 "cells": [
  {
   "cell_type": "code",
   "execution_count": 3,
   "id": "c6690325",
   "metadata": {},
   "outputs": [
    {
     "name": "stdout",
     "output_type": "stream",
     "text": [
      "1999\n",
      "1999\n",
      "100\n",
      "189\n",
      "100\n",
      "150\n"
     ]
    }
   ],
   "source": [
    "# 5543번: 상근날드\n",
    "\n",
    "burger = []\n",
    "drink = []\n",
    "\n",
    "for _ in range(3):\n",
    "    price = int(input())\n",
    "    burger.append(price)\n",
    "    \n",
    "for _ in range(2):\n",
    "    price = int(input())\n",
    "    drink.append(price)\n",
    "\n",
    "ans = min(burger) + min(drink) - 50\n",
    "print(ans)"
   ]
  },
  {
   "cell_type": "code",
   "execution_count": 15,
   "id": "d1c79dce",
   "metadata": {},
   "outputs": [
    {
     "name": "stdout",
     "output_type": "stream",
     "text": [
      "3\n",
      "0 10\n",
      "2\n",
      "33 1005\n",
      "199\n",
      "1 4\n",
      "0\n"
     ]
    }
   ],
   "source": [
    "# 11170번: 0의 개수\n",
    "\n",
    "T = int(input())\n",
    "\n",
    "for _ in range(T):\n",
    "    cnt = 0\n",
    "    N, M = map(int, input().split())\n",
    "    for i in range(N, M+1):\n",
    "        num = str(i)\n",
    "        cnt += num.count('0')\n",
    "    print(cnt)"
   ]
  },
  {
   "cell_type": "code",
   "execution_count": 19,
   "id": "8576e8bc",
   "metadata": {},
   "outputs": [
    {
     "name": "stdout",
     "output_type": "stream",
     "text": [
      "3\n",
      "ACDKJFOWIEGHE\n",
      "AE\n",
      "O\n",
      "OO\n",
      "AB\n",
      "AB\n"
     ]
    }
   ],
   "source": [
    "# 9086번: 문자열\n",
    "\n",
    "T = int(input())\n",
    "for _ in range(T):\n",
    "    S = input()\n",
    "    print(S[0]+S[len(S)-1])"
   ]
  },
  {
   "cell_type": "code",
   "execution_count": 24,
   "id": "abe36b84",
   "metadata": {},
   "outputs": [
    {
     "name": "stdout",
     "output_type": "stream",
     "text": [
      "!edoc doog a tahW\n",
      "What a good code!\n",
      "noitacitsufbo\n",
      "obfustication\n",
      "erafraw enirambus detcirtsernu yraurbeF fo tsrif eht no nigeb ot dnetni eW\n",
      "We intend to begin on the first of February unrestricted submarine warfare\n",
      "lla sees rodroM fo drol eht ,ssertrof sih nihtiw delaecnoC\n",
      "Concealed within his fortress, the lord of Mordor sees all\n",
      "END\n"
     ]
    }
   ],
   "source": [
    "# 11365번: !밀비 급일\n",
    "\n",
    "while 1:\n",
    "    S = input()\n",
    "    if S == 'END':\n",
    "        break\n",
    "    else:\n",
    "        print(S[::-1])"
   ]
  },
  {
   "cell_type": "code",
   "execution_count": 25,
   "id": "fa9820e9",
   "metadata": {},
   "outputs": [
    {
     "name": "stdout",
     "output_type": "stream",
     "text": [
      "10,20,30,50,100\n",
      "5\n"
     ]
    }
   ],
   "source": [
    "# 10821번: 정수의 개수\n",
    "\n",
    "S = input()\n",
    "print(S.count(',')+1)"
   ]
  }
 ],
 "metadata": {
  "kernelspec": {
   "display_name": "Python 3",
   "language": "python",
   "name": "python3"
  },
  "language_info": {
   "codemirror_mode": {
    "name": "ipython",
    "version": 3
   },
   "file_extension": ".py",
   "mimetype": "text/x-python",
   "name": "python",
   "nbconvert_exporter": "python",
   "pygments_lexer": "ipython3",
   "version": "3.8.8"
  }
 },
 "nbformat": 4,
 "nbformat_minor": 5
}
