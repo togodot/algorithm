{
 "cells": [
  {
   "cell_type": "code",
   "execution_count": 10,
   "id": "b5827199",
   "metadata": {},
   "outputs": [
    {
     "name": "stdout",
     "output_type": "stream",
     "text": [
      "16796 58786\n",
      "74580 85582\n"
     ]
    }
   ],
   "source": [
    "# 2864번: 5와 6의 차이\n",
    "\n",
    "A, B = map(str, input().split())\n",
    "a = int(A.replace('6', '5'))\n",
    "b = int(B.replace('6', '5'))\n",
    "\n",
    "A = int(A.replace('5', '6'))\n",
    "B = int(B.replace('5', '6'))\n",
    "\n",
    "print(a+b, A+B)"
   ]
  }
 ],
 "metadata": {
  "kernelspec": {
   "display_name": "Python 3",
   "language": "python",
   "name": "python3"
  },
  "language_info": {
   "codemirror_mode": {
    "name": "ipython",
    "version": 3
   },
   "file_extension": ".py",
   "mimetype": "text/x-python",
   "name": "python",
   "nbconvert_exporter": "python",
   "pygments_lexer": "ipython3",
   "version": "3.8.8"
  }
 },
 "nbformat": 4,
 "nbformat_minor": 5
}
