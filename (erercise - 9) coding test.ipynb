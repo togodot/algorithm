{
 "cells": [
  {
   "cell_type": "code",
   "execution_count": 2,
   "id": "c05b78f8",
   "metadata": {},
   "outputs": [
    {
     "name": "stdout",
     "output_type": "stream",
     "text": [
      "11\n",
      "1 4 1 2 4 2 4 2 3 4 4\n",
      "5\n",
      "0\n"
     ]
    }
   ],
   "source": [
    "# 10807번: 개수 세기\n",
    "\n",
    "N = int(input())\n",
    "numList = list(map(int, input().split()))\n",
    "v = int(input())\n",
    "cnt = 0\n",
    "for i in numList:\n",
    "    if i == v:\n",
    "        cnt += 1\n",
    "print(cnt)"
   ]
  },
  {
   "cell_type": "code",
   "execution_count": 11,
   "id": "172b7296",
   "metadata": {},
   "outputs": [
    {
     "name": "stdout",
     "output_type": "stream",
     "text": [
      "4\n",
      "4 MISSPELL\n",
      "MISPELL\n",
      "1 PROGRAMMING\n",
      "ROGRAMMING\n",
      "7 CONTEST\n",
      "CONTES\n",
      "3 BALLOON\n",
      "BALOON\n"
     ]
    }
   ],
   "source": [
    "# 2711번: 오타맨 고창영\n",
    "\n",
    "T = int(input())\n",
    "for _ in range(T):\n",
    "    lo, S = map(str, input().split())\n",
    "    print(S[:int(lo)-1]+S[int(lo):])"
   ]
  },
  {
   "cell_type": "code",
   "execution_count": 35,
   "id": "35555ede",
   "metadata": {},
   "outputs": [
    {
     "name": "stdout",
     "output_type": "stream",
     "text": [
      "10\n",
      "40\n",
      "30\n",
      "60\n",
      "30\n",
      "20\n",
      "60\n",
      "30\n",
      "40\n",
      "50\n",
      "37\n",
      "30\n"
     ]
    }
   ],
   "source": [
    "# 2592번: 대표값\n",
    "\n",
    "num_list = []\n",
    "num_dict = {}\n",
    "for _ in range(10):\n",
    "    num = int(input())\n",
    "    num_list.append(num)\n",
    "    if num in num_dict:\n",
    "        num_dict[num] += 1\n",
    "    else:\n",
    "        num_dict[num] = 1\n",
    "\n",
    "print(sum(num_list)//10)\n",
    "print(max(num_dict, key=num_dict.get))"
   ]
  },
  {
   "cell_type": "code",
   "execution_count": 41,
   "id": "58c1a543",
   "metadata": {},
   "outputs": [
    {
     "name": "stdout",
     "output_type": "stream",
     "text": [
      "4\n",
      "1 2 3 4 5 6 7 8 9 1000\n",
      "8\n",
      "338 304 619 95 343 496 489 116 98 127\n",
      "489\n",
      "931 240 986 894 826 640 965 833 136 138\n",
      "931\n",
      "940 955 364 188 133 254 501 122 768 408\n",
      "768\n"
     ]
    }
   ],
   "source": [
    "# 2693번: N번째 큰 수\n",
    "\n",
    "T = int(input())\n",
    "for _ in range(T):\n",
    "    nums = list(map(int, input().split()))\n",
    "    nums.sort(reverse=True)\n",
    "    print(nums[2])"
   ]
  },
  {
   "cell_type": "code",
   "execution_count": 45,
   "id": "156427b8",
   "metadata": {},
   "outputs": [
    {
     "name": "stdout",
     "output_type": "stream",
     "text": [
      "Pasko-Patak\n",
      "PP"
     ]
    }
   ],
   "source": [
    "# 2902번: KMP는 왜 KMP일까?\n",
    "\n",
    "S = list(input())\n",
    "for i in S:\n",
    "    if i.isupper() == True:\n",
    "        print(i, end='')"
   ]
  }
 ],
 "metadata": {
  "kernelspec": {
   "display_name": "Python 3",
   "language": "python",
   "name": "python3"
  },
  "language_info": {
   "codemirror_mode": {
    "name": "ipython",
    "version": 3
   },
   "file_extension": ".py",
   "mimetype": "text/x-python",
   "name": "python",
   "nbconvert_exporter": "python",
   "pygments_lexer": "ipython3",
   "version": "3.8.8"
  }
 },
 "nbformat": 4,
 "nbformat_minor": 5
}
