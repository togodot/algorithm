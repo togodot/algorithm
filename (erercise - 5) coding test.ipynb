{
 "cells": [
  {
   "cell_type": "code",
   "execution_count": 4,
   "id": "959b7742",
   "metadata": {},
   "outputs": [
    {
     "name": "stdout",
     "output_type": "stream",
     "text": [
      "24 18\n",
      "6\n",
      "72\n"
     ]
    }
   ],
   "source": [
    "# 2609번: 최대공약수와 최소공배수\n",
    "\n",
    "a, b = map(int, input().split())\n",
    "A, B = a, b\n",
    "\n",
    "while a!= 0:\n",
    "    b = b % a\n",
    "    a, b = b, a\n",
    "\n",
    "gcd = b\n",
    "lcm = A * B // b\n",
    "print(gcd)\n",
    "print(lcm)"
   ]
  },
  {
   "cell_type": "code",
   "execution_count": 8,
   "id": "251ef275",
   "metadata": {},
   "outputs": [
    {
     "name": "stdout",
     "output_type": "stream",
     "text": [
      "0 1 0 1\n",
      "B\n",
      "1 1 1 0\n",
      "A\n",
      "0 0 1 1\n",
      "B\n"
     ]
    }
   ],
   "source": [
    "# 2490번: 윷놀이\n",
    "\n",
    "for _ in range(3):\n",
    "    state = list(map(int, input().split()))\n",
    "    if sum(state) == 3:\n",
    "        print('A')\n",
    "    elif sum(state) == 2:\n",
    "        print('B')\n",
    "    elif sum(state) == 1:\n",
    "        print('C')\n",
    "    elif sum(state) == 0:\n",
    "        print('D')\n",
    "    else:\n",
    "        print('E')"
   ]
  },
  {
   "cell_type": "code",
   "execution_count": 12,
   "id": "23b2fe18",
   "metadata": {},
   "outputs": [
    {
     "name": "stdout",
     "output_type": "stream",
     "text": [
      "5 20\n",
      "99 101 1000 0 97\n",
      "-1 1 900 -100 -3 "
     ]
    }
   ],
   "source": [
    "# 2845번: 파티가 끝나고 난 뒤\n",
    "\n",
    "L, P = map(int, input().split())\n",
    "nums = list(map(int, input().split()))\n",
    "sang = L*P\n",
    "\n",
    "for i in nums:\n",
    "    ans = i - sang\n",
    "    print(ans, end=' ')"
   ]
  },
  {
   "cell_type": "code",
   "execution_count": 32,
   "id": "d226249b",
   "metadata": {},
   "outputs": [
    {
     "name": "stdout",
     "output_type": "stream",
     "text": [
      "3 7\n",
      "15\n"
     ]
    }
   ],
   "source": [
    "# 1292번: 쉽게 푸는 문제\n",
    "\n",
    "A, B = map(int, input().split())\n",
    "result = []\n",
    "x = 1\n",
    "i = 1\n",
    "while len(result) <= B:\n",
    "    for _ in range(i):\n",
    "        result.append(x)\n",
    "    x += 1\n",
    "    i += 1\n",
    "\n",
    "answer = sum(result[:B]) - sum(result[:A-1])\n",
    "print(answer)"
   ]
  },
  {
   "cell_type": "code",
   "execution_count": 31,
   "id": "884031b3",
   "metadata": {},
   "outputs": [
    {
     "name": "stdout",
     "output_type": "stream",
     "text": [
      "pulljima\n",
      "8\n"
     ]
    }
   ],
   "source": [
    "# 2743번: 단어 길이 재기\n",
    "\n",
    "S = input()\n",
    "print(len(S))"
   ]
  }
 ],
 "metadata": {
  "kernelspec": {
   "display_name": "Python 3",
   "language": "python",
   "name": "python3"
  },
  "language_info": {
   "codemirror_mode": {
    "name": "ipython",
    "version": 3
   },
   "file_extension": ".py",
   "mimetype": "text/x-python",
   "name": "python",
   "nbconvert_exporter": "python",
   "pygments_lexer": "ipython3",
   "version": "3.8.8"
  }
 },
 "nbformat": 4,
 "nbformat_minor": 5
}
