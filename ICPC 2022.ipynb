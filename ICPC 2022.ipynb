{
 "cells": [
  {
   "cell_type": "code",
   "execution_count": 40,
   "outputs": [
    {
     "data": {
      "text/plain": "1"
     },
     "execution_count": 40,
     "metadata": {},
     "output_type": "execute_result"
    }
   ],
   "source": [
    "# A번 - 단순한 문제 (Small)\n",
    "\n",
    "T = int(input())\n",
    "a, b, c = map(int, input().split())\n",
    "\n",
    "def mod(x, y):\n",
    "    result = x % y\n",
    "    return result\n",
    "\n",
    "def check(x,y,z):\n",
    "    if mod(x,y) == mod(y,z) == mod(z,x):\n",
    "        # result = 1\n",
    "        # return result\n",
    "        return 1\n",
    "\n",
    "for i in range(a*b*c):\n",
    "    ####\n",
    "\n",
    "\n",
    "\n",
    "\n",
    "\n",
    "\n",
    "#\n",
    "# for i in range(T):\n",
    "#     a, b, c = map(int, input().split())\n",
    "#\n",
    "#\n",
    "#     for j in range(a*b*c):\n",
    "#\n",
    "#\n",
    "#     if mod(a,b) == mod(b,c) == mod(c,a):\n",
    "#         print(a,b,c)"
   ],
   "metadata": {
    "collapsed": false,
    "pycharm": {
     "name": "#%%\n"
    }
   }
  },
  {
   "cell_type": "code",
   "execution_count": 37,
   "outputs": [
    {
     "name": "stdout",
     "output_type": "stream",
     "text": [
      "10\n"
     ]
    }
   ],
   "source": [
    "# B번 - 에어팟\n",
    "\n",
    "N = int(input())\n",
    "s = list(map(str, input().split()))\n",
    "b = 2\n",
    "b2 = 0\n",
    "phone = s[0]\n",
    "\n",
    "for i in range(1, N):\n",
    "    if s[i] == phone:\n",
    "        b2 = (b * 2)\n",
    "        b = b2 + b\n",
    "    else:\n",
    "        phone = s[i]\n",
    "        b += 2\n",
    "\n",
    "    if b >= 100:\n",
    "        b = 2\n",
    "\n",
    "print(b)"
   ],
   "metadata": {
    "collapsed": false,
    "pycharm": {
     "name": "#%%\n"
    }
   }
  },
  {
   "cell_type": "code",
   "execution_count": 31,
   "outputs": [],
   "source": [],
   "metadata": {
    "collapsed": false,
    "pycharm": {
     "name": "#%%\n"
    }
   }
  }
 ],
 "metadata": {
  "kernelspec": {
   "display_name": "Python 3",
   "language": "python",
   "name": "python3"
  },
  "language_info": {
   "codemirror_mode": {
    "name": "ipython",
    "version": 2
   },
   "file_extension": ".py",
   "mimetype": "text/x-python",
   "name": "python",
   "nbconvert_exporter": "python",
   "pygments_lexer": "ipython2",
   "version": "2.7.6"
  }
 },
 "nbformat": 4,
 "nbformat_minor": 0
}