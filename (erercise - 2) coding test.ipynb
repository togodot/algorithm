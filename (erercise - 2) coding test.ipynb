{
 "cells": [
  {
   "cell_type": "code",
   "execution_count": 3,
   "id": "73a66450",
   "metadata": {},
   "outputs": [
    {
     "name": "stdout",
     "output_type": "stream",
     "text": [
      "9850\n",
      "1050\n",
      "800\n",
      "420\n",
      "380\n",
      "600\n",
      "820\n",
      "2400\n",
      "1800\n",
      "980\n",
      "600\n"
     ]
    }
   ],
   "source": [
    "# 5565번: 영수증\n",
    "\n",
    "TotalPrice = int(input())\n",
    "BookPrice = []\n",
    "\n",
    "for i in range(9):\n",
    "    price = int(input())\n",
    "    BookPrice.append(price)\n",
    "\n",
    "answer = TotalPrice - sum(BookPrice)\n",
    "print(answer)"
   ]
  },
  {
   "cell_type": "code",
   "execution_count": 7,
   "id": "e1b20da2",
   "metadata": {},
   "outputs": [
    {
     "name": "stdout",
     "output_type": "stream",
     "text": [
      "3\n",
      "10 20\n",
      "5 5\n",
      "1 13\n",
      "0\n"
     ]
    }
   ],
   "source": [
    "# 10833번: 사과\n",
    "\n",
    "N = int(input())\n",
    "leftAppleSum = 0\n",
    "\n",
    "for i in range(N):\n",
    "    student, apple = map(int, input().split())\n",
    "    leftApple = apple % student\n",
    "    leftAppleSum += leftApple\n",
    "\n",
    "print(leftAppleSum)"
   ]
  },
  {
   "cell_type": "code",
   "execution_count": 9,
   "id": "89c44041",
   "metadata": {},
   "outputs": [
    {
     "name": "stdout",
     "output_type": "stream",
     "text": [
      "2\n",
      "10000\n",
      "2\n",
      "1 2000\n",
      "3 400\n",
      "13200\n",
      "50000\n",
      "0\n",
      "50000\n"
     ]
    }
   ],
   "source": [
    "# 9325번: 얼마?\n",
    "\n",
    "T = int(input())\n",
    "\n",
    "for i in range(T):\n",
    "    \n",
    "    s = int(input())\n",
    "    n = int(input())\n",
    "    option = 0\n",
    "\n",
    "    for j in range(n):\n",
    "        q, p = map(int, input().split())\n",
    "        option += q * p\n",
    "\n",
    "    price = s + option\n",
    "    print(price)"
   ]
  },
  {
   "cell_type": "code",
   "execution_count": 11,
   "id": "2b9d67c9",
   "metadata": {},
   "outputs": [
    {
     "name": "stdout",
     "output_type": "stream",
     "text": [
      "0\n",
      "100\n",
      "0\n",
      "10\n",
      "100\n",
      "210\n"
     ]
    }
   ],
   "source": [
    "# 5522번: 카드 게임\n",
    "\n",
    "scoreSum = 0\n",
    "\n",
    "for i in range(5):\n",
    "    score = int(input())\n",
    "    scoreSum += score\n",
    "    \n",
    "print(scoreSum)"
   ]
  },
  {
   "cell_type": "code",
   "execution_count": 14,
   "id": "84355218",
   "metadata": {},
   "outputs": [
    {
     "name": "stdout",
     "output_type": "stream",
     "text": [
      "5\n",
      "1 3 0 7 4\n",
      "0\n"
     ]
    }
   ],
   "source": [
    "# 10797번: 10부제\n",
    "\n",
    "day = int(input())\n",
    "nums = list(map(int, input().split()))\n",
    "cnt = 0\n",
    "\n",
    "for i in nums:\n",
    "    if i == day:\n",
    "        cnt += 1\n",
    "print(cnt)"
   ]
  },
  {
   "cell_type": "code",
   "execution_count": 16,
   "id": "81e92faf",
   "metadata": {},
   "outputs": [
    {
     "name": "stdout",
     "output_type": "stream",
     "text": [
      "2\n",
      "8 12\n",
      "6\n",
      "4 6\n",
      "4\n"
     ]
    }
   ],
   "source": [
    "# 10569번: 다면체\n",
    "\n",
    "T = int(input())\n",
    "for i in range(T):\n",
    "    V, E = map(int, input().split())\n",
    "    F = 2 - V + E\n",
    "    print(F)"
   ]
  },
  {
   "cell_type": "code",
   "execution_count": 34,
   "id": "d199326d",
   "metadata": {},
   "outputs": [
    {
     "name": "stdout",
     "output_type": "stream",
     "text": [
      "75\n",
      "80\n",
      "-1\n"
     ]
    }
   ],
   "source": [
    "# 1977번: 완전제곱수\n",
    "\n",
    "M = int(input())\n",
    "N = int(input())\n",
    "squareNums = []\n",
    "\n",
    "for i in range(1, 101):\n",
    "    squareNum = i ** 2\n",
    "    if squareNum >= M and squareNum <= N:\n",
    "        squareNums.append(squareNum)\n",
    "    if squareNum > N:\n",
    "        break\n",
    "\n",
    "if sum(squareNums) == 0:\n",
    "    print(-1)\n",
    "else:\n",
    "    print(sum(squareNums))\n",
    "    print(min(squareNums))"
   ]
  },
  {
   "cell_type": "code",
   "execution_count": 48,
   "id": "7a1ca602",
   "metadata": {
    "scrolled": true
   },
   "outputs": [
    {
     "name": "stdout",
     "output_type": "stream",
     "text": [
      "2\n",
      "3\n",
      "10 Iversen\n",
      "1000000 Nannskog\n",
      "2000000 Ronaldinho\n",
      "Ronaldinho\n",
      "2\n",
      "1000000 Maradona\n",
      "999999 Batistuta\n",
      "Maradona\n"
     ]
    }
   ],
   "source": [
    "# 11098번: 첼시를 도와줘!\n",
    "\n",
    "n = int(input())\n",
    "\n",
    "for i in range(n):\n",
    "    p = int(input())\n",
    "    cost = 0\n",
    "    \n",
    "    for j in range(p):\n",
    "        c, name = map(str, input().split())\n",
    "        \n",
    "        if int(c) > cost:\n",
    "            cost = int(c)\n",
    "            player = name\n",
    "            \n",
    "    print(player)"
   ]
  },
  {
   "cell_type": "code",
   "execution_count": null,
   "id": "1442df40",
   "metadata": {},
   "outputs": [],
   "source": [
    "# # 5635번: 생일\n",
    "\n",
    "# n = int(input())\n",
    "# yearList = []\n",
    "# monthList = []\n",
    "# dayList = []\n",
    "# nameList = []\n",
    "\n",
    "# for i in range(n):\n",
    "#     name, dd, mm, yyyy = map(str, int().split())\n",
    "#     nameList.append(name)\n",
    "#     dayList.append(dd)\n",
    "#     monthList.append(mm)\n",
    "#     yearList.append(yyyy)\n",
    "\n"
   ]
  },
  {
   "cell_type": "code",
   "execution_count": 62,
   "id": "b870aad2",
   "metadata": {},
   "outputs": [
    {
     "name": "stdout",
     "output_type": "stream",
     "text": [
      "5\n",
      "Garfield 20 9 1990\n",
      "Jerry 18 9 1990\n",
      "Tom 15 8 1993\n",
      "Alice 30 12 1990\n",
      "Mickey 1 10 1991\n",
      "Tom\n",
      "Jerry\n"
     ]
    }
   ],
   "source": [
    "# 5635번: 생일\n",
    "\n",
    "n = int(input())\n",
    "max_year = 1989\n",
    "max_month = 0\n",
    "max_day = 0\n",
    "min_year = 1991\n",
    "min_month = 2\n",
    "min_day = 2\n",
    "\n",
    "for i in range(n):\n",
    "    name, dd, mm, yyyy = map(str, input().split())\n",
    "    \n",
    "    if int(yyyy) > max_year:\n",
    "        max_year = int(yyyy)\n",
    "        max_month = int(mm)\n",
    "        max_day = int(dd)\n",
    "        youngest = name\n",
    "    elif int(yyyy) == max_year:\n",
    "        if int(mm) > max_month:\n",
    "            max_month = int(mm)\n",
    "            max_day = int(dd)\n",
    "            youngest = name\n",
    "        elif int(mm) == max_month:\n",
    "            if int(dd) > max_day:\n",
    "                max_day = int(dd)\n",
    "                youngest = name\n",
    "                \n",
    "    if int(yyyy) < min_year:\n",
    "        min_year = int(yyyy)\n",
    "        min_month = int(mm)\n",
    "        min_day = int(dd)\n",
    "        oldest = name\n",
    "    elif int(yyyy) == min_year:\n",
    "        if int(mm) < min_month:\n",
    "            min_month = int(mm)\n",
    "            min_day = int(dd)\n",
    "            oldest = name\n",
    "        elif int(mm) == min_month:\n",
    "            if int(dd) < min_day:\n",
    "                min_day = int(dd)\n",
    "                oldest = name\n",
    "                \n",
    "print(youngest)\n",
    "print(oldest)"
   ]
  },
  {
   "cell_type": "code",
   "execution_count": 63,
   "id": "c0d8557e",
   "metadata": {
    "scrolled": true
   },
   "outputs": [
    {
     "name": "stdout",
     "output_type": "stream",
     "text": [
      "13:52:30\n",
      "14:00:00\n"
     ]
    },
    {
     "data": {
      "text/plain": [
       "str"
      ]
     },
     "execution_count": 63,
     "metadata": {},
     "output_type": "execute_result"
    }
   ],
   "source": [
    "# 1408번: 24\n",
    "\n",
    "present = input()\n",
    "start = input()\n"
   ]
  },
  {
   "cell_type": "code",
   "execution_count": null,
   "id": "c4cb0c26",
   "metadata": {},
   "outputs": [],
   "source": []
  },
  {
   "cell_type": "code",
   "execution_count": 69,
   "id": "3aade325",
   "metadata": {},
   "outputs": [
    {
     "name": "stdout",
     "output_type": "stream",
     "text": [
      "10\n",
      "1 0 1 1 1 0 0 1 1 0\n",
      "10\n"
     ]
    }
   ],
   "source": [
    "# 2506번: 점수계산\n",
    "\n",
    "N = int(input())\n",
    "result = list(map(int, input().split()))\n",
    "score = 0\n",
    "totalscore = 0\n",
    "\n",
    "for i in range(N):\n",
    "    if result[i] == 1:\n",
    "        score += 1\n",
    "        totalscore += score\n",
    "    else:\n",
    "        score = 0\n",
    "\n",
    "print(totalscore)"
   ]
  },
  {
   "cell_type": "code",
   "execution_count": 72,
   "id": "237b27b5",
   "metadata": {},
   "outputs": [
    {
     "name": "stdout",
     "output_type": "stream",
     "text": [
      "2\n",
      "5\n",
      "1 1 1 1 1\n",
      "5\n",
      "7\n",
      "1 2 3 4 5 6 7\n",
      "28\n"
     ]
    }
   ],
   "source": [
    "# 9085번: 더하기\n",
    "\n",
    "T = int(input())\n",
    "\n",
    "for i in range(T):\n",
    "    N = int(input())\n",
    "    numList = list(map(int, input().split()))\n",
    "    ans = 0\n",
    "    for j in numList:\n",
    "        ans += j\n",
    "    print(ans)"
   ]
  },
  {
   "cell_type": "code",
   "execution_count": 73,
   "id": "093f7327",
   "metadata": {},
   "outputs": [
    {
     "name": "stdout",
     "output_type": "stream",
     "text": [
      "0 32\n",
      "3 13\n",
      "28 25\n",
      "39 0\n",
      "42\n"
     ]
    }
   ],
   "source": [
    "# 2455번: 지능형 기차\n",
    "\n",
    "people = 0\n",
    "train = []\n",
    "\n",
    "for i in range(4):\n",
    "    O, I = map(int, input().split())\n",
    "    people -= O\n",
    "    people += I\n",
    "    train.append(people)\n",
    "\n",
    "answer = max(train)\n",
    "print(answer)"
   ]
  },
  {
   "cell_type": "code",
   "execution_count": 74,
   "id": "8fc75a1f",
   "metadata": {},
   "outputs": [
    {
     "name": "stdout",
     "output_type": "stream",
     "text": [
      "0 4 2 5 6\n",
      "1\n"
     ]
    }
   ],
   "source": [
    "# 2475번: 검증수\n",
    "\n",
    "nums = list(map(int, input().split()))\n",
    "checknum = 0\n",
    "\n",
    "for i in nums:\n",
    "    checknum += (i ** 2)\n",
    "\n",
    "checknum = (checknum % 10)\n",
    "print(checknum)"
   ]
  },
  {
   "cell_type": "code",
   "execution_count": null,
   "id": "42ace267",
   "metadata": {},
   "outputs": [],
   "source": []
  },
  {
   "cell_type": "code",
   "execution_count": null,
   "id": "6d622cdf",
   "metadata": {},
   "outputs": [],
   "source": []
  },
  {
   "cell_type": "code",
   "execution_count": null,
   "id": "03449d4c",
   "metadata": {},
   "outputs": [],
   "source": []
  },
  {
   "cell_type": "code",
   "execution_count": null,
   "id": "6b86eca3",
   "metadata": {},
   "outputs": [],
   "source": []
  },
  {
   "cell_type": "code",
   "execution_count": null,
   "id": "9adb0e83",
   "metadata": {},
   "outputs": [],
   "source": []
  }
 ],
 "metadata": {
  "kernelspec": {
   "display_name": "Python 3",
   "language": "python",
   "name": "python3"
  },
  "language_info": {
   "codemirror_mode": {
    "name": "ipython",
    "version": 3
   },
   "file_extension": ".py",
   "mimetype": "text/x-python",
   "name": "python",
   "nbconvert_exporter": "python",
   "pygments_lexer": "ipython3",
   "version": "3.8.8"
  }
 },
 "nbformat": 4,
 "nbformat_minor": 5
}
