{
 "cells": [
  {
   "cell_type": "code",
   "execution_count": null,
   "id": "375e8a19",
   "metadata": {},
   "outputs": [],
   "source": [
    "# 2460번: 지능형 기차 2\n",
    "\n",
    "num = 0\n",
    "maxnum = 0\n",
    "\n",
    "for n in range(1, 11):\n",
    "    o, i = map(int, input().split())\n",
    "    num = num - o + i\n",
    "    if num > maxnum:\n",
    "        maxnum = num\n",
    "\n",
    "print(maxnum)"
   ]
  },
  {
   "cell_type": "code",
   "execution_count": null,
   "id": "ff3adf7e",
   "metadata": {},
   "outputs": [],
   "source": [
    "# 2953번: 나는 요리사다\n",
    "\n",
    "topscore = 0\n",
    "topcook = 0\n",
    "for i in range(1, 6):\n",
    "    score = list(map(int, input().split()))\n",
    "    if sum(score) > topscore:\n",
    "        topscore = sum(score)\n",
    "        topcook = i\n",
    "print(topcook, topscore)"
   ]
  },
  {
   "cell_type": "code",
   "execution_count": 16,
   "id": "b1c1035c",
   "metadata": {},
   "outputs": [
    {
     "name": "stdout",
     "output_type": "stream",
     "text": [
      "1\n",
      "13\n",
      "0 2 3 "
     ]
    }
   ],
   "source": [
    "# 3460번: 이진수\n",
    "\n",
    "T = int(input())\n",
    "for _ in range(T):\n",
    "    n = list(format(int(input()), 'b'))\n",
    "    n.reverse()\n",
    "    for i in range(len(n)):\n",
    "        if n[i] == '1':\n",
    "            print(i, end=' ')\n",
    "            \n",
    "##############################\n",
    "# 10진수를 2진수로 계산하는 함수    #\n",
    "# format(13, 'b')            #\n",
    "# 'b'가 2진수를 의미            #\n",
    "##############################"
   ]
  },
  {
   "cell_type": "code",
   "execution_count": 49,
   "id": "11e8579b",
   "metadata": {
    "scrolled": true
   },
   "outputs": [
    {
     "name": "stdout",
     "output_type": "stream",
     "text": [
      "One is 1\n",
      "Bar vf 1"
     ]
    }
   ],
   "source": [
    "# 11655번: ROT13\n",
    "\n",
    "S = list(input())\n",
    "for i in S:\n",
    "    if i.isalpha() == True:\n",
    "        r = int(ord(i)) + 13\n",
    "        if i.isupper() == True:\n",
    "            if r <= 90:\n",
    "                print(chr(r), end='')\n",
    "            else:\n",
    "                print(chr(r-26), end='')\n",
    "        else:\n",
    "            if r <= 122:\n",
    "                print(chr(r), end='')\n",
    "            else:\n",
    "                print(chr(r-26), end='')\n",
    "    else:\n",
    "        print(i, end='')\n",
    "        \n",
    "\n",
    "##############################\n",
    "#       ord('a') = 97        #\n",
    "#       chr(97) = 'a'        #\n",
    "##############################"
   ]
  },
  {
   "cell_type": "code",
   "execution_count": 53,
   "id": "71cee3dd",
   "metadata": {},
   "outputs": [
    {
     "name": "stdout",
     "output_type": "stream",
     "text": [
      "5\n",
      "1,1\n",
      "2\n",
      "2,3\n",
      "5\n",
      "3,4\n",
      "7\n",
      "9,8\n",
      "17\n",
      "5,2\n",
      "7\n"
     ]
    }
   ],
   "source": [
    "# 10953번: A+B - 6\n",
    "\n",
    "T = int(input())\n",
    "for i in range(T):\n",
    "    A, B = map(int, input().split(','))\n",
    "    print(A+B)"
   ]
  },
  {
   "cell_type": "code",
   "execution_count": 73,
   "id": "21b1f410",
   "metadata": {},
   "outputs": [
    {
     "name": "stdout",
     "output_type": "stream",
     "text": [
      "baekjoon\n",
      "1 1 0 0 1 0 0 0 0 1 1 0 0 1 2 0 0 0 0 0 0 0 0 0 0 0 "
     ]
    }
   ],
   "source": [
    "# 10808번: 알파벳 개수\n",
    "\n",
    "S = list(input())\n",
    "alpha = []\n",
    "n = 0\n",
    "\n",
    "for _ in range(26):\n",
    "    alpha.append(n)\n",
    "\n",
    "for j in S:\n",
    "    alpha[ord(j) - 97] += 1\n",
    "\n",
    "for k in alpha:\n",
    "    print(k, end=' ')"
   ]
  }
 ],
 "metadata": {
  "kernelspec": {
   "display_name": "Python 3",
   "language": "python",
   "name": "python3"
  },
  "language_info": {
   "codemirror_mode": {
    "name": "ipython",
    "version": 3
   },
   "file_extension": ".py",
   "mimetype": "text/x-python",
   "name": "python",
   "nbconvert_exporter": "python",
   "pygments_lexer": "ipython3",
   "version": "3.8.8"
  }
 },
 "nbformat": 4,
 "nbformat_minor": 5
}
