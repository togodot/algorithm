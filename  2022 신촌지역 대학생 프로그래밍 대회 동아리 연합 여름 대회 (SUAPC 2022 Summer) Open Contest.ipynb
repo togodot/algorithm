{
 "cells": [
  {
   "cell_type": "markdown",
   "id": "9c5244b6",
   "metadata": {},
   "source": [
    "## A번 - 수 맞히기 게임"
   ]
  },
  {
   "cell_type": "markdown",
   "id": "9565d82b",
   "metadata": {},
   "source": [
    "기댓값 공부 필요"
   ]
  },
  {
   "cell_type": "code",
   "execution_count": null,
   "id": "aa452bba",
   "metadata": {},
   "outputs": [],
   "source": [
    "import random\n",
    "N = int(input())\n",
    "for _ in range(N):\n",
    "    x,y,k = map(int, input().split())"
   ]
  },
  {
   "cell_type": "code",
   "execution_count": null,
   "id": "eaae386d",
   "metadata": {},
   "outputs": [],
   "source": [
    "import random\n",
    "x=2\n",
    "y=6\n",
    "k=3\n",
    "\n",
    "a = max(x, (x+y)/2-1)\n",
    "b = min(y, (x+y)/2+1)\n",
    "\n",
    "random.randint(a,b)"
   ]
  },
  {
   "cell_type": "markdown",
   "id": "bc1296fe",
   "metadata": {},
   "source": [
    "## F번 - 차의 개수"
   ]
  },
  {
   "cell_type": "markdown",
   "id": "147fc1c6",
   "metadata": {},
   "source": [
    "런타임에러.."
   ]
  },
  {
   "cell_type": "code",
   "execution_count": 79,
   "id": "25168872",
   "metadata": {},
   "outputs": [
    {
     "name": "stdout",
     "output_type": "stream",
     "text": [
      "30\n",
      "435\n",
      "249446609 249446610 249446612 249446615 249446619 249446624 249446630 249446637 249446645 249446654 249446664 249446675 249446687 249446700 249446714 249446729 249446745 249446762 249446780 249446799 249446819 249446840 249446862 249446885 249446909 249446934 249446960 249446987 249447015 249447044\n",
      "29\n",
      "448214210 448214211 448214212 448214213 448214214 448214215 448214216 448214217 448214218 448214219 448214220 448214221 448214222 448214223 448214224 448214225 448214226 448214227 448214228 448214229 448214230 448214231 448214232 448214233 448214234 448214235 448214236 448214237 448214238 448214239\n"
     ]
    }
   ],
   "source": [
    "N = int(input())\n",
    "print(int(N*(N-1)/2))\n",
    "\n",
    "num = random.randint(1, 10**9)\n",
    "max_num = []\n",
    "\n",
    "if num > 10**9 - N:\n",
    "    thisnum = num\n",
    "    dis = 0\n",
    "    for i in range(N):\n",
    "        dis += i\n",
    "        max_num.append(thisnum-dis)\n",
    "elif num <= 10**9 - N:\n",
    "    thisnum = num\n",
    "    dis = 0\n",
    "    for j in range(N):\n",
    "        dis += j\n",
    "        max_num.append(thisnum+dis)\n",
    "print(' '.join(str(s) for s in max_num))\n",
    "\n",
    "print(N-1)\n",
    "\n",
    "num2 = random.randint(1, 10**9)\n",
    "min_num = []\n",
    "\n",
    "if num2 > 10**9 - N:\n",
    "    thisnum2 = num2\n",
    "    for i in range(N):\n",
    "        min_num.append(thisnum2-i)\n",
    "elif num2 <= 10**9- N:\n",
    "    thisnum2 = num2\n",
    "    for j in range(N):\n",
    "        min_num.append(thisnum2+j)\n",
    "print(' '.join(str(s) for s in min_num))"
   ]
  }
 ],
 "metadata": {
  "kernelspec": {
   "display_name": "Python 3",
   "language": "python",
   "name": "python3"
  },
  "language_info": {
   "codemirror_mode": {
    "name": "ipython",
    "version": 3
   },
   "file_extension": ".py",
   "mimetype": "text/x-python",
   "name": "python",
   "nbconvert_exporter": "python",
   "pygments_lexer": "ipython3",
   "version": "3.8.8"
  }
 },
 "nbformat": 4,
 "nbformat_minor": 5
}
