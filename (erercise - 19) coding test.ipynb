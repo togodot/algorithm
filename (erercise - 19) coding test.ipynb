{
 "cells": [
  {
   "cell_type": "code",
   "execution_count": 2,
   "id": "ab04ed81",
   "metadata": {},
   "outputs": [
    {
     "name": "stdout",
     "output_type": "stream",
     "text": [
      "4\n",
      "   * \n",
      "  * * \n",
      " * * * \n",
      "* * * * \n"
     ]
    }
   ],
   "source": [
    "# 10991번: 별 찍기 - 16\n",
    "\n",
    "N = int(input())\n",
    "for i in range(1, N+1):\n",
    "    print(' '*(N-i)+'* '*i)"
   ]
  },
  {
   "cell_type": "code",
   "execution_count": 6,
   "id": "72d38562",
   "metadata": {},
   "outputs": [
    {
     "name": "stdout",
     "output_type": "stream",
     "text": [
      "2\n",
      "4\n",
      "20\n",
      "32\n",
      "6\n",
      "10\n",
      "8\n",
      "-1\n"
     ]
    }
   ],
   "source": [
    "# 2576번: 홀수\n",
    "\n",
    "oddnum = []\n",
    "for _ in range(7):\n",
    "    N = int(input())\n",
    "    if N % 2 == 1:\n",
    "        oddnum.append(N)\n",
    "if len(oddnum) == 0:\n",
    "    print(-1)\n",
    "else:\n",
    "    print(sum(oddnum))\n",
    "    print(min(oddnum))"
   ]
  },
  {
   "cell_type": "code",
   "execution_count": 11,
   "id": "92670bda",
   "metadata": {},
   "outputs": [
    {
     "name": "stdout",
     "output_type": "stream",
     "text": [
      "5\n",
      "*        *\n",
      "**      **\n",
      "***    ***\n",
      "****  ****\n",
      "**********\n",
      "****  ****\n",
      "***    ***\n",
      "**      **\n",
      "*        *\n"
     ]
    }
   ],
   "source": [
    "# 2445번: 별 찍기 - 8\n",
    "\n",
    "N = int(input())\n",
    "for i in range(1, N+1):\n",
    "    print('*'*i+' '*(N-i)*2+'*'*i)\n",
    "for i in range(N-1, 0, -1):\n",
    "    print('*'*i+' '*(N-i)*2+'*'*i)"
   ]
  },
  {
   "cell_type": "code",
   "execution_count": 22,
   "id": "a162e5e7",
   "metadata": {},
   "outputs": [
    {
     "name": "stdout",
     "output_type": "stream",
     "text": [
      "5\n",
      "*********\n",
      " *******\n",
      "  *****\n",
      "   ***\n",
      "    *\n",
      "   ***\n",
      "  *****\n",
      " *******\n",
      "*********\n"
     ]
    }
   ],
   "source": [
    "# 2446번: 별 찍기 - 9\n",
    "\n",
    "N = int(input())\n",
    "for i in range(N, 1, -1):\n",
    "    print(' '*(N-i)+'*'*(2*i-1))\n",
    "for i in range(1, N+1):\n",
    "    print(' '*(N-i)+'*'*(2*i-1))"
   ]
  },
  {
   "cell_type": "code",
   "execution_count": 27,
   "id": "40480269",
   "metadata": {},
   "outputs": [
    {
     "name": "stdout",
     "output_type": "stream",
     "text": [
      "2\n",
      "5\n",
      "8\n",
      "12\n"
     ]
    }
   ],
   "source": [
    "# 2010번: 플러그\n",
    "\n",
    "N = int(input())\n",
    "p = []\n",
    "c = 1\n",
    "for i in range(N):\n",
    "    n = int(input())\n",
    "    p.append(n)\n",
    "p.sort(reverse=True)\n",
    "if max(p) == 1:\n",
    "    print(c)\n",
    "else:\n",
    "    for i in range(N):\n",
    "        if p[i] == 1:\n",
    "            break\n",
    "        else:\n",
    "            c = c - 1 + p[i]\n",
    "    print(c)"
   ]
  },
  {
   "cell_type": "code",
   "execution_count": 59,
   "id": "9a0c2169",
   "metadata": {},
   "outputs": [
    {
     "name": "stdout",
     "output_type": "stream",
     "text": [
      "3\n",
      "1\n",
      "1\n",
      "1\n",
      "1\n"
     ]
    }
   ],
   "source": [
    "# 2010번: 플러그\n",
    "\n",
    "N = int(input())\n",
    "p = []\n",
    "c = 1\n",
    "for i in range(N):\n",
    "    n = int(input())\n",
    "    p.append(n)\n",
    "removenum = [1]\n",
    "p = [i for i in p if i not in removenum]\n",
    "\n",
    "if len(p) < 1:\n",
    "    print(c)\n",
    "else:\n",
    "    for i in range(len(p)):\n",
    "        c = c - 1 + p[i]\n",
    "    print(c)"
   ]
  },
  {
   "cell_type": "code",
   "execution_count": 61,
   "id": "43780459",
   "metadata": {},
   "outputs": [
    {
     "name": "stdout",
     "output_type": "stream",
     "text": [
      "2\n",
      "5\n",
      "8\n",
      "12\n"
     ]
    }
   ],
   "source": [
    "# 2010번: 플러그\n",
    "\n",
    "N = int(input())\n",
    "c = 0\n",
    "for _ in range(N):\n",
    "    c += int(input())\n",
    "print(c - (N - 1))"
   ]
  },
  {
   "cell_type": "code",
   "execution_count": 46,
   "id": "978002a3",
   "metadata": {},
   "outputs": [
    {
     "name": "stdout",
     "output_type": "stream",
     "text": [
      "3 2\n",
      "3\n"
     ]
    }
   ],
   "source": [
    "# 2501번: 약수 구하기\n",
    "\n",
    "N, K = map(int, input().split())\n",
    "divisor = []\n",
    "for i in range(1, N+1):\n",
    "    if N % i == 0:\n",
    "        divisor.append(i)\n",
    "if len(divisor) < K:\n",
    "    print(0)\n",
    "else:\n",
    "    print(divisor[K-1])"
   ]
  }
 ],
 "metadata": {
  "kernelspec": {
   "display_name": "Python 3",
   "language": "python",
   "name": "python3"
  },
  "language_info": {
   "codemirror_mode": {
    "name": "ipython",
    "version": 3
   },
   "file_extension": ".py",
   "mimetype": "text/x-python",
   "name": "python",
   "nbconvert_exporter": "python",
   "pygments_lexer": "ipython3",
   "version": "3.8.8"
  }
 },
 "nbformat": 4,
 "nbformat_minor": 5
}
